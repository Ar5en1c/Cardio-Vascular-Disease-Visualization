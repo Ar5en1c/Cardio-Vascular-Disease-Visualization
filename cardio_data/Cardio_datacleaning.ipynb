{
 "cells": [
  {
   "cell_type": "code",
<<<<<<< HEAD
   "execution_count": 1,
=======
   "execution_count": 29,
>>>>>>> d41611f8e7e925c85175d44ce052f8ce49de7683
   "id": "48da00bb",
   "metadata": {},
   "outputs": [],
   "source": [
    "# Imports\n",
    "import pandas as pd\n",
    "import numpy as np\n",
    "import matplotlib.pyplot as plt\n",
    "import seaborn as sns\n",
    "import re"
   ]
  },
  {
   "cell_type": "code",
<<<<<<< HEAD
   "execution_count": 2,
=======
   "execution_count": 30,
>>>>>>> d41611f8e7e925c85175d44ce052f8ce49de7683
   "id": "f5f36cdb",
   "metadata": {},
   "outputs": [],
   "source": [
    "# Read files\n",
<<<<<<< HEAD
    "albumin_df = pd.read_csv('../albumin.txt', sep='|')\n",
    "creatinine_df = pd.read_csv('../creatinine.txt', sep='|')\n",
    "\n",
    "height_df = pd.read_csv('../height.txt', sep='|')\n",
    "hypertension_df = pd.read_csv('../hypertension.txt', sep='|')\n",
    "weight_df = pd.read_csv('../weight.txt', sep='|')\n",
=======
    "albumin_df = pd.read_csv('albumin.txt', sep='|')\n",
    "creatinine_df = pd.read_csv('creatinine.txt', sep='|')\n",
    "height_df = pd.read_csv('height.txt', sep='|')\n",
    "hypertension_df = pd.read_csv('hypertension.txt', sep='|')\n",
    "weight_df = pd.read_csv('weight.txt', sep='|')\n",
>>>>>>> d41611f8e7e925c85175d44ce052f8ce49de7683
    "\n",
    "# print(albumin_df.info(), '\\n')\n",
    "# print(creatinine_df.info(), '\\n')\n",
    "# print(height_df.info(), '\\n')\n",
    "# print(weight_df.info(), '\\n')\n",
    "# print(hypertension_df.info(), '\\n')"
   ]
  },
  {
   "cell_type": "code",
<<<<<<< HEAD
   "execution_count": 3,
=======
   "execution_count": 31,
>>>>>>> d41611f8e7e925c85175d44ce052f8ce49de7683
   "id": "fe07a5ef",
   "metadata": {},
   "outputs": [
    {
     "name": "stdout",
     "output_type": "stream",
     "text": [
      "<class 'pandas.core.frame.DataFrame'>\n",
      "RangeIndex: 125905 entries, 0 to 125904\n",
      "Data columns (total 6 columns):\n",
      " #   Column            Non-Null Count   Dtype \n",
      "---  ------            --------------   ----- \n",
      " 0   RESULT            125896 non-null  object\n",
      " 1   CEX_RES_SECUENCE  125905 non-null  int64 \n",
      " 2   TYPE_DOC          125905 non-null  object\n",
      " 3   PAT_ID            125905 non-null  object\n",
      " 4   DATE              125905 non-null  object\n",
      " 5   FORM_NUMBER       125905 non-null  int64 \n",
      "dtypes: int64(2), object(4)\n",
      "memory usage: 5.8+ MB\n"
     ]
    }
   ],
   "source": [
    "# open hemoglobin file, replace ',' with '.'\n",
    "f = open('../glycosylated_hemoglobin.txt','r')\n",
    "filedata = f.read()\n",
    "f.close()\n",
    "newdata = filedata.replace(\",\",\".\")\n",
    "\n",
    "# Create new file, read df from new file\n",
    "f = open('hemoglobin.txt','w')\n",
    "f.write(newdata)\n",
    "f.close()\n",
    "\n",
    "# Read hemoglobin to df\n",
    "hemoglobin_df = pd.read_csv('hemoglobin.txt', sep='|')\n",
    "hemoglobin_df.info()"
   ]
  },
  {
   "cell_type": "code",
<<<<<<< HEAD
   "execution_count": 4,
   "id": "436ff59e",
=======
   "execution_count": 32,
   "id": "1f13ba10",
>>>>>>> d41611f8e7e925c85175d44ce052f8ce49de7683
   "metadata": {},
   "outputs": [
    {
     "name": "stdout",
     "output_type": "stream",
     "text": [
      "<class 'pandas.core.frame.DataFrame'>\n",
      "RangeIndex: 819955 entries, 0 to 819954\n",
      "Data columns (total 7 columns):\n",
<<<<<<< HEAD
      " #   Column            Non-Null Count   Dtype  \n",
      "---  ------            --------------   -----  \n",
      " 0   RESULT            125857 non-null  object \n",
      " 1   CEX_RES_SECUENCE  125857 non-null  int64  \n",
      " 2   TYPE_DOC          125857 non-null  object \n",
      " 3   PAT_ID            125857 non-null  object \n",
      " 4   DATE              125857 non-null  object \n",
      " 5   FORM_NUMBER       125857 non-null  int64  \n",
      " 6   hemoglobin        125857 non-null  float64\n",
      "dtypes: float64(1), int64(2), object(4)\n",
      "memory usage: 7.7+ MB\n"
=======
      " #   Column              Non-Null Count   Dtype  \n",
      "---  ------              --------------   -----  \n",
      " 0   PAT_ID              819955 non-null  object \n",
      " 1   TYPE_DOC            819955 non-null  object \n",
      " 2   MTV_CORRELATION     819955 non-null  int64  \n",
      " 3   TABENCUENTRO        819955 non-null  int64  \n",
      " 4   DATE                819955 non-null  object \n",
      " 5   SYSTOLIC_PRESSURE   819955 non-null  int64  \n",
      " 6   DIASTOLIC_PRESSURE  819955 non-null  float64\n",
      "dtypes: float64(1), int64(3), object(3)\n",
      "memory usage: 43.8+ MB\n"
>>>>>>> d41611f8e7e925c85175d44ce052f8ce49de7683
     ]
    }
   ],
   "source": [
<<<<<<< HEAD
    "# Remove null values from hemoglobin\n",
    "hemoglobin_df = hemoglobin_df[hemoglobin_df['RESULT'].notna()]\n",
    "# Extract digits from string in RESULT (output is list)\n",
    "hemoglobin_df['hemoglobin'] = hemoglobin_df['RESULT'].apply(lambda x: re.findall(r\"[-+]?(?:\\d*\\.\\d+|\\d+)\", x))\n",
    "# Get rid of empty lists\n",
    "hemoglobin_df = hemoglobin_df[hemoglobin_df[\"hemoglobin\"].str.len() != 0]\n",
    "# Get rid of list and keep number\n",
    "hemoglobin_df['hemoglobin'] = hemoglobin_df['hemoglobin'].apply(lambda x: x[0])\n",
    "# Convert string to float\n",
    "hemoglobin_df['hemoglobin'] = hemoglobin_df['hemoglobin'].astype(float)\n",
    "hemoglobin_df.info()"
=======
    "hypertension_df.info()"
   ]
  },
  {
   "cell_type": "code",
   "execution_count": 34,
   "id": "1f90ebf2",
   "metadata": {},
   "outputs": [
    {
     "name": "stderr",
     "output_type": "stream",
     "text": [
      "C:\\Users\\aranga22\\AppData\\Local\\Temp/ipykernel_17280/3388639217.py:15: FutureWarning: The default value of regex will change from True to False in a future version.\n",
      "  frame['PAT_ID'] = frame['PAT_ID'].str.replace('\\W', '')\n"
     ]
    },
    {
     "name": "stdout",
     "output_type": "stream",
     "text": [
      "<class 'pandas.core.frame.DataFrame'>\n",
      "Int64Index: 6224 entries, 0 to 6224\n",
      "Data columns (total 6 columns):\n",
      " #   Column            Non-Null Count  Dtype         \n",
      "---  ------            --------------  -----         \n",
      " 0   CEX_RES_SECUENCE  6224 non-null   int64         \n",
      " 1   TYPE_DOC          6224 non-null   object        \n",
      " 2   PAT_ID            6224 non-null   object        \n",
      " 3   DATE              6224 non-null   datetime64[ns]\n",
      " 4   FORM_NUMBER       6224 non-null   int64         \n",
      " 5   result            6224 non-null   float64       \n",
      "dtypes: datetime64[ns](1), float64(1), int64(2), object(2)\n",
      "memory usage: 340.4+ KB\n",
      "None\n"
     ]
    },
    {
     "name": "stderr",
     "output_type": "stream",
     "text": [
      "C:\\Users\\aranga22\\AppData\\Local\\Temp/ipykernel_17280/3388639217.py:8: SettingWithCopyWarning: \n",
      "A value is trying to be set on a copy of a slice from a DataFrame.\n",
      "Try using .loc[row_indexer,col_indexer] = value instead\n",
      "\n",
      "See the caveats in the documentation: https://pandas.pydata.org/pandas-docs/stable/user_guide/indexing.html#returning-a-view-versus-a-copy\n",
      "  frame['RESULT'] = frame['RESULT'].str.replace(',', '.')\n",
      "C:\\Users\\aranga22\\AppData\\Local\\Temp/ipykernel_17280/3388639217.py:9: SettingWithCopyWarning: \n",
      "A value is trying to be set on a copy of a slice from a DataFrame.\n",
      "Try using .loc[row_indexer,col_indexer] = value instead\n",
      "\n",
      "See the caveats in the documentation: https://pandas.pydata.org/pandas-docs/stable/user_guide/indexing.html#returning-a-view-versus-a-copy\n",
      "  frame['result'] = frame['RESULT'].apply(lambda x: re.findall(r\"[-+]?(?:\\d*\\.\\d+|\\d+)\", x))\n",
      "C:\\Users\\aranga22\\AppData\\Local\\Temp/ipykernel_17280/3388639217.py:15: FutureWarning: The default value of regex will change from True to False in a future version.\n",
      "  frame['PAT_ID'] = frame['PAT_ID'].str.replace('\\W', '')\n"
     ]
    },
    {
     "name": "stdout",
     "output_type": "stream",
     "text": [
      "<class 'pandas.core.frame.DataFrame'>\n",
      "Int64Index: 197506 entries, 0 to 197692\n",
      "Data columns (total 5 columns):\n",
      " #   Column       Non-Null Count   Dtype         \n",
      "---  ------       --------------   -----         \n",
      " 0   TYPE_DOC     197506 non-null  object        \n",
      " 1   PAT_ID       197506 non-null  object        \n",
      " 2   DATE         197506 non-null  datetime64[ns]\n",
      " 3   FORM_NUMBER  197506 non-null  int64         \n",
      " 4   result       197506 non-null  float64       \n",
      "dtypes: datetime64[ns](1), float64(1), int64(1), object(2)\n",
      "memory usage: 9.0+ MB\n",
      "None\n"
     ]
    },
    {
     "name": "stderr",
     "output_type": "stream",
     "text": [
      "C:\\Users\\aranga22\\AppData\\Local\\Temp/ipykernel_17280/3388639217.py:15: FutureWarning: The default value of regex will change from True to False in a future version.\n",
      "  frame['PAT_ID'] = frame['PAT_ID'].str.replace('\\W', '')\n"
     ]
    },
    {
     "name": "stdout",
     "output_type": "stream",
     "text": [
      "<class 'pandas.core.frame.DataFrame'>\n",
      "RangeIndex: 709481 entries, 0 to 709480\n",
      "Data columns (total 6 columns):\n",
      " #   Column      Non-Null Count   Dtype         \n",
      "---  ------      --------------   -----         \n",
      " 0   PAT_ID      709481 non-null  object        \n",
      " 1   TYPE_DOC    709481 non-null  object        \n",
      " 2   CORRETALLA  709481 non-null  int64         \n",
      " 3   ENCUTALLA   709481 non-null  int64         \n",
      " 4   DATE        709481 non-null  datetime64[ns]\n",
      " 5   HEIGHT      709481 non-null  float64       \n",
      "dtypes: datetime64[ns](1), float64(1), int64(2), object(2)\n",
      "memory usage: 32.5+ MB\n",
      "None\n"
     ]
    },
    {
     "name": "stderr",
     "output_type": "stream",
     "text": [
      "C:\\Users\\aranga22\\AppData\\Local\\Temp/ipykernel_17280/3388639217.py:15: FutureWarning: The default value of regex will change from True to False in a future version.\n",
      "  frame['PAT_ID'] = frame['PAT_ID'].str.replace('\\W', '')\n"
     ]
    },
    {
     "name": "stdout",
     "output_type": "stream",
     "text": [
      "<class 'pandas.core.frame.DataFrame'>\n",
      "RangeIndex: 819955 entries, 0 to 819954\n",
      "Data columns (total 7 columns):\n",
      " #   Column              Non-Null Count   Dtype         \n",
      "---  ------              --------------   -----         \n",
      " 0   PAT_ID              819955 non-null  object        \n",
      " 1   TYPE_DOC            819955 non-null  object        \n",
      " 2   MTV_CORRELATION     819955 non-null  int64         \n",
      " 3   TABENCUENTRO        819955 non-null  int64         \n",
      " 4   DATE                819955 non-null  datetime64[ns]\n",
      " 5   SYSTOLIC_PRESSURE   819955 non-null  int64         \n",
      " 6   DIASTOLIC_PRESSURE  819955 non-null  float64       \n",
      "dtypes: datetime64[ns](1), float64(1), int64(3), object(2)\n",
      "memory usage: 43.8+ MB\n",
      "None\n"
     ]
    },
    {
     "name": "stderr",
     "output_type": "stream",
     "text": [
      "C:\\Users\\aranga22\\AppData\\Local\\Temp/ipykernel_17280/3388639217.py:15: FutureWarning: The default value of regex will change from True to False in a future version.\n",
      "  frame['PAT_ID'] = frame['PAT_ID'].str.replace('\\W', '')\n"
     ]
    },
    {
     "name": "stdout",
     "output_type": "stream",
     "text": [
      "<class 'pandas.core.frame.DataFrame'>\n",
      "RangeIndex: 744192 entries, 0 to 744191\n",
      "Data columns (total 6 columns):\n",
      " #   Column          Non-Null Count   Dtype         \n",
      "---  ------          --------------   -----         \n",
      " 0   PAT_ID          744192 non-null  object        \n",
      " 1   TYPE_DOC        744192 non-null  object        \n",
      " 2   CORRE_PESO      744192 non-null  int64         \n",
      " 3   ENCUENTRO_PESO  744192 non-null  int64         \n",
      " 4   DATE            744192 non-null  datetime64[ns]\n",
      " 5   WEIGHT          744192 non-null  float64       \n",
      "dtypes: datetime64[ns](1), float64(1), int64(2), object(2)\n",
      "memory usage: 34.1+ MB\n",
      "None\n"
     ]
    },
    {
     "name": "stderr",
     "output_type": "stream",
     "text": [
      "C:\\Users\\aranga22\\AppData\\Local\\Temp/ipykernel_17280/3388639217.py:8: SettingWithCopyWarning: \n",
      "A value is trying to be set on a copy of a slice from a DataFrame.\n",
      "Try using .loc[row_indexer,col_indexer] = value instead\n",
      "\n",
      "See the caveats in the documentation: https://pandas.pydata.org/pandas-docs/stable/user_guide/indexing.html#returning-a-view-versus-a-copy\n",
      "  frame['RESULT'] = frame['RESULT'].str.replace(',', '.')\n",
      "C:\\Users\\aranga22\\AppData\\Local\\Temp/ipykernel_17280/3388639217.py:9: SettingWithCopyWarning: \n",
      "A value is trying to be set on a copy of a slice from a DataFrame.\n",
      "Try using .loc[row_indexer,col_indexer] = value instead\n",
      "\n",
      "See the caveats in the documentation: https://pandas.pydata.org/pandas-docs/stable/user_guide/indexing.html#returning-a-view-versus-a-copy\n",
      "  frame['result'] = frame['RESULT'].apply(lambda x: re.findall(r\"[-+]?(?:\\d*\\.\\d+|\\d+)\", x))\n",
      "C:\\Users\\aranga22\\AppData\\Local\\Temp/ipykernel_17280/3388639217.py:15: FutureWarning: The default value of regex will change from True to False in a future version.\n",
      "  frame['PAT_ID'] = frame['PAT_ID'].str.replace('\\W', '')\n"
     ]
    },
    {
     "name": "stdout",
     "output_type": "stream",
     "text": [
      "<class 'pandas.core.frame.DataFrame'>\n",
      "Int64Index: 125857 entries, 0 to 125904\n",
      "Data columns (total 6 columns):\n",
      " #   Column            Non-Null Count   Dtype         \n",
      "---  ------            --------------   -----         \n",
      " 0   CEX_RES_SECUENCE  125857 non-null  int64         \n",
      " 1   TYPE_DOC          125857 non-null  object        \n",
      " 2   PAT_ID            125857 non-null  object        \n",
      " 3   DATE              125857 non-null  datetime64[ns]\n",
      " 4   FORM_NUMBER       125857 non-null  int64         \n",
      " 5   result            125857 non-null  float64       \n",
      "dtypes: datetime64[ns](1), float64(1), int64(2), object(2)\n",
      "memory usage: 6.7+ MB\n",
      "None\n"
     ]
    }
   ],
   "source": [
    "# clean data \n",
    "\n",
    "data_frames = [albumin_df, creatinine_df, height_df, hypertension_df, weight_df, hemoglobin_df]\n",
    "\n",
    "for frame in data_frames:\n",
    "    if 'RESULT' in list(frame.columns):\n",
    "        frame = frame[frame['RESULT'].notna()]\n",
    "        frame['RESULT'] = frame['RESULT'].str.replace(',', '.') \n",
    "        frame['result'] = frame['RESULT'].apply(lambda x: re.findall(r\"[-+]?(?:\\d*\\.\\d+|\\d+)\", x))\n",
    "        frame = frame[frame[\"result\"].str.len() != 0]\n",
    "        frame['result'] = frame['result'].apply(lambda x: x[0])\n",
    "        frame['result'] = frame['result'].astype(float)\n",
    "        frame.drop(['RESULT'], axis=1, inplace=True)\n",
    "    frame['PAT_ID'] = frame['PAT_ID'].astype(str)\n",
    "    frame['PAT_ID'] = frame['PAT_ID'].str.replace('\\W', '')\n",
    "    frame['DATE'] = pd.to_datetime(frame['DATE'])\n",
    "    print(frame.info())"
>>>>>>> d41611f8e7e925c85175d44ce052f8ce49de7683
   ]
  },
  {
   "cell_type": "code",
<<<<<<< HEAD
   "execution_count": 5,
   "id": "f006335c",
=======
   "execution_count": null,
   "id": "1daf0af4",
>>>>>>> d41611f8e7e925c85175d44ce052f8ce49de7683
   "metadata": {},
   "outputs": [
    {
     "name": "stdout",
     "output_type": "stream",
     "text": [
      "<class 'pandas.core.frame.DataFrame'>\n",
      "RangeIndex: 55458242 entries, 0 to 55458241\n",
      "Data columns (total 2 columns):\n",
      " #   Column    Dtype \n",
      "---  ------    ----- \n",
      " 0   PK_USER   int64 \n",
      " 1   DIA_CODE  object\n",
      "dtypes: int64(1), object(1)\n",
      "memory usage: 846.2+ MB\n",
      "None \n",
      "\n"
     ]
    }
   ],
   "source": [
    "diagnostics_df = pd.read_csv('../diagnostics_10192022.txt', sep='|')\n",
    "print(diagnostics_df.info(), '\\n')\n"
   ]
  },
  {
   "cell_type": "code",
   "execution_count": 6,
   "id": "b5d5a1ba",
   "metadata": {},
   "outputs": [
    {
     "name": "stdout",
     "output_type": "stream",
     "text": [
      "<class 'pandas.core.frame.DataFrame'>\n",
      "RangeIndex: 627507 entries, 0 to 627506\n",
      "Data columns (total 11 columns):\n",
      " #   Column         Non-Null Count   Dtype  \n",
      "---  ------         --------------   -----  \n",
      " 0   PK_USER        627507 non-null  int64  \n",
      " 1   PAT_ID         627506 non-null  object \n",
      " 2   ID_TYPE        627506 non-null  object \n",
      " 3   BIRTH_DATE     627506 non-null  object \n",
      " 4   DEATH_DATE     627420 non-null  object \n",
      " 5   AGE            627506 non-null  float64\n",
      " 6   SEX            627506 non-null  object \n",
      " 7   DVP_REG_CODE   627506 non-null  object \n",
      " 8   DVP_PRO_CODEO  627506 non-null  object \n",
      " 9   TYPE_USER      627506 non-null  object \n",
      " 10  CENTER_ID      627506 non-null  float64\n",
      "dtypes: float64(2), int64(1), object(8)\n",
      "memory usage: 52.7+ MB\n",
      "None \n",
      "\n"
     ]
    }
   ],
   "source": [
    "demographics_df = pd.read_csv('../demogra_10192022 1.txt', sep='|', encoding = 'unicode_escape')\n",
    "print(demographics_df.info(), '\\n')"
   ]
  },
  {
   "cell_type": "code",
   "execution_count": 7,
   "id": "89f5d9b6",
   "metadata": {},
   "outputs": [
    {
     "name": "stdout",
     "output_type": "stream",
     "text": [
      "<class 'pandas.core.frame.DataFrame'>\n",
      "RangeIndex: 80 entries, 0 to 79\n",
      "Data columns (total 2 columns):\n",
      " #   Column    Non-Null Count  Dtype \n",
      "---  ------    --------------  ----- \n",
      " 0   DIA_CODE  80 non-null     object\n",
      " 1   DIA_TEXT  80 non-null     object\n",
      "dtypes: object(2)\n",
      "memory usage: 1.4+ KB\n",
      "None \n",
      "\n"
     ]
    }
   ],
   "source": [
    "CVDCodes_df = pd.read_excel('../CARDIOVASCULAR_CODES.xlsx', index_col=None)\n",
    "print(CVDCodes_df.info(), '\\n')"
   ]
  },
  {
   "cell_type": "code",
   "execution_count": 8,
   "id": "9fa3f641",
   "metadata": {},
   "outputs": [],
   "source": [
    "creatinine_df['PAT_ID'] = creatinine_df['PAT_ID'].astype('string')\n",
    "creatinine_df['RESULT'] = creatinine_df['RESULT'].astype('string')\n",
    "creatinine_df['TYPE_DOC'] = creatinine_df['TYPE_DOC'].astype('string')\n",
    "creatinine_df['DATE'] = creatinine_df['DATE'].astype('string')\n",
    "creatinine_df['FORM_NUMBER'] = creatinine_df['FORM_NUMBER'].astype('string')\n",
    "\n",
    "creatinine_df['PAT_ID'] = creatinine_df['PAT_ID'].str.strip()\n",
    "creatinine_df['RESULT'] = creatinine_df['RESULT'].str.strip()\n",
    "creatinine_df['TYPE_DOC'] = creatinine_df['TYPE_DOC'].str.strip()\n",
    "creatinine_df['FORM_NUMBER'] = creatinine_df['FORM_NUMBER'].str.strip()\n",
    "creatinine_df['DATE'] = creatinine_df['DATE'].str.lstrip()\n",
    "creatinine_df['DATE'] = creatinine_df['DATE'].str.rstrip()\n",
    "\n",
    "creatinine_df['isNumeric'] = list(map(lambda x: x.isnumeric(), creatinine_df['PAT_ID']))\n",
    "\n",
    "creatinine_df = creatinine_df[creatinine_df['isNumeric'] == True]"
   ]
  },
  {
   "cell_type": "code",
   "execution_count": 9,
   "id": "c01fb532",
   "metadata": {},
   "outputs": [],
   "source": [
    "albumin_df['PAT_ID'] = albumin_df['PAT_ID'].astype('string')\n",
    "albumin_df['RESULT'] = albumin_df['RESULT'].astype('string')\n",
    "albumin_df['CEX_RES_SECUENCE'] = albumin_df['CEX_RES_SECUENCE'].astype('string')\n",
    "albumin_df['TYPE_DOC'] = albumin_df['TYPE_DOC'].astype('string')\n",
    "albumin_df['DATE'] = albumin_df['DATE'].astype('string')\n",
    "albumin_df['FORM_NUMBER'] = albumin_df['FORM_NUMBER'].astype('string')\n",
    "\n",
    "albumin_df['PAT_ID'] = albumin_df['PAT_ID'].str.strip()\n",
    "albumin_df['RESULT'] = albumin_df['RESULT'].str.strip()\n",
    "albumin_df['TYPE_DOC'] = albumin_df['TYPE_DOC'].str.strip()\n",
    "albumin_df['CEX_RES_SECUENCE'] = albumin_df['CEX_RES_SECUENCE'].str.strip()\n",
    "albumin_df['FORM_NUMBER'] = albumin_df['FORM_NUMBER'].str.strip()\n",
    "albumin_df['DATE'] = albumin_df['DATE'].str.lstrip()\n",
    "albumin_df['DATE'] = albumin_df['DATE'].str.rstrip()"
   ]
  },
  {
   "cell_type": "code",
   "execution_count": 10,
   "id": "79ffb6bb",
   "metadata": {},
   "outputs": [],
   "source": [
    "hemoglobin_df['PAT_ID'] = hemoglobin_df['PAT_ID'].astype('string')\n",
    "hemoglobin_df['RESULT'] = hemoglobin_df['RESULT'].astype('string')\n",
    "hemoglobin_df['CEX_RES_SECUENCE'] = hemoglobin_df['CEX_RES_SECUENCE'].astype('string')\n",
    "hemoglobin_df['TYPE_DOC'] = hemoglobin_df['TYPE_DOC'].astype('string')\n",
    "hemoglobin_df['DATE'] = hemoglobin_df['DATE'].astype('string')\n",
    "hemoglobin_df['FORM_NUMBER'] = hemoglobin_df['FORM_NUMBER'].astype('string')\n",
    "hemoglobin_df['hemoglobin'] = hemoglobin_df['hemoglobin'].astype('string')\n",
    "\n",
    "hemoglobin_df['PAT_ID'] = hemoglobin_df['PAT_ID'].str.strip()\n",
    "hemoglobin_df['RESULT'] = hemoglobin_df['RESULT'].str.strip()\n",
    "hemoglobin_df['hemoglobin'] = hemoglobin_df['hemoglobin'].str.strip()\n",
    "hemoglobin_df['TYPE_DOC'] = hemoglobin_df['TYPE_DOC'].str.strip()\n",
    "hemoglobin_df['CEX_RES_SECUENCE'] = hemoglobin_df['CEX_RES_SECUENCE'].str.strip()\n",
    "hemoglobin_df['FORM_NUMBER'] = hemoglobin_df['FORM_NUMBER'].str.strip()\n",
    "hemoglobin_df['DATE'] = hemoglobin_df['DATE'].str.lstrip()\n",
    "hemoglobin_df['DATE'] = hemoglobin_df['DATE'].str.rstrip()"
   ]
  },
  {
   "cell_type": "code",
   "execution_count": 11,
   "id": "b9556e3b",
   "metadata": {},
   "outputs": [],
   "source": [
    "height_df['PAT_ID'] = height_df['PAT_ID'].astype('string')\n",
    "height_df['HEIGHT'] = height_df['HEIGHT'].astype('string')\n",
    "height_df['TYPE_DOC'] = height_df['TYPE_DOC'].astype('string')\n",
    "height_df['DATE'] = height_df['DATE'].astype('string')\n",
    "height_df['CORRETALLA'] = height_df['CORRETALLA'].astype('string')\n",
    "height_df['ENCUTALLA'] = height_df['ENCUTALLA'].astype('string')\n",
    "\n",
    "weight_df['PAT_ID'] = weight_df['PAT_ID'].astype('string')\n",
    "weight_df['WEIGHT'] = weight_df['WEIGHT'].astype('string')\n",
    "weight_df['TYPE_DOC'] = weight_df['TYPE_DOC'].astype('string')\n",
    "weight_df['DATE'] = weight_df['DATE'].astype('string')\n",
    "weight_df['CORRE_PESO'] = weight_df['CORRE_PESO'].astype('string')\n",
    "weight_df['ENCUENTRO_PESO'] = weight_df['ENCUENTRO_PESO'].astype('string')\n",
    "\n",
    "hypertension_df['PAT_ID'] = hypertension_df['PAT_ID'].astype('string')\n",
    "hypertension_df['MTV_CORRELATION'] = hypertension_df['MTV_CORRELATION'].astype('string')\n",
    "hypertension_df['TYPE_DOC'] = hypertension_df['TYPE_DOC'].astype('string')\n",
    "hypertension_df['DATE'] = hypertension_df['DATE'].astype('string')\n",
    "hypertension_df['TABENCUENTRO'] = hypertension_df['TABENCUENTRO'].astype('string')\n",
    "hypertension_df['SYSTOLIC_PRESSURE'] = hypertension_df['SYSTOLIC_PRESSURE'].astype('string')\n",
    "hypertension_df['DIASTOLIC_PRESSURE'] = hypertension_df['DIASTOLIC_PRESSURE'].astype('string')"
   ]
  },
  {
   "cell_type": "code",
   "execution_count": 12,
   "id": "e9c96463",
   "metadata": {},
   "outputs": [],
   "source": [
    "height_df['PAT_ID'] = height_df['PAT_ID'].str.strip()\n",
    "height_df['HEIGHT'] = height_df['HEIGHT'].str.strip()\n",
    "height_df['CORRETALLA'] = height_df['CORRETALLA'].str.strip()\n",
    "height_df['TYPE_DOC'] = height_df['TYPE_DOC'].str.strip()\n",
    "height_df['ENCUTALLA'] = height_df['ENCUTALLA'].str.strip()\n",
    "height_df['DATE'] = height_df['DATE'].str.lstrip()\n",
    "height_df['DATE'] = height_df['DATE'].str.rstrip()\n",
    "\n",
    "weight_df['PAT_ID'] = weight_df['PAT_ID'].str.strip()\n",
    "weight_df['WEIGHT'] = weight_df['WEIGHT'].str.strip()\n",
    "weight_df['CORRE_PESO'] = weight_df['CORRE_PESO'].str.strip()\n",
    "weight_df['TYPE_DOC'] = weight_df['TYPE_DOC'].str.strip()\n",
    "weight_df['ENCUENTRO_PESO'] = weight_df['ENCUENTRO_PESO'].str.strip()\n",
    "weight_df['DATE'] = weight_df['DATE'].str.lstrip()\n",
    "weight_df['DATE'] = weight_df['DATE'].str.rstrip()\n",
    "\n",
    "\n",
    "hypertension_df['PAT_ID'] = hypertension_df['PAT_ID'].str.strip()\n",
    "hypertension_df['MTV_CORRELATION'] = hypertension_df['MTV_CORRELATION'].str.strip()\n",
    "hypertension_df['SYSTOLIC_PRESSURE'] = hypertension_df['SYSTOLIC_PRESSURE'].str.strip()\n",
    "hypertension_df['DIASTOLIC_PRESSURE'] = hypertension_df['DIASTOLIC_PRESSURE'].str.strip()\n",
    "hypertension_df['TYPE_DOC'] = hypertension_df['TYPE_DOC'].str.strip()\n",
    "hypertension_df['TABENCUENTRO'] = hypertension_df['TABENCUENTRO'].str.strip()\n",
    "hypertension_df['DATE'] = hypertension_df['DATE'].str.lstrip()\n",
    "hypertension_df['DATE'] = hypertension_df['DATE'].str.rstrip()"
   ]
  },
  {
   "cell_type": "code",
   "execution_count": 13,
   "id": "1cececcb",
   "metadata": {},
   "outputs": [],
   "source": [
    "demographics_df.dropna()\n",
    "\n",
    "demographics_df['PAT_ID'] = demographics_df['PAT_ID'].astype('string')\n",
    "demographics_df['PK_USER'] = demographics_df['PK_USER'].astype('string')\n",
    "demographics_df['ID_TYPE'] = demographics_df['ID_TYPE'].astype('string')\n",
    "demographics_df['TYPE_USER'] = demographics_df['TYPE_USER'].astype('string')\n",
    "demographics_df['DEATH_DATE'] = demographics_df['DEATH_DATE'].astype('string')\n",
    "demographics_df['BIRTH_DATE'] = demographics_df['BIRTH_DATE'].astype('string')\n",
    "demographics_df['AGE'] = demographics_df['AGE'].astype('string')\n",
    "demographics_df['SEX'] = demographics_df['SEX'].astype('string')\n",
    "demographics_df['DVP_REG_CODE'] = demographics_df['DVP_REG_CODE'].astype('string')\n",
    "demographics_df['DVP_PRO_CODEO'] = demographics_df['DVP_PRO_CODEO'].astype('string')\n",
    "demographics_df['CENTER_ID'] = demographics_df['CENTER_ID'].astype('string')\n",
    "\n",
    "demographics_df['PAT_ID'] = demographics_df['PAT_ID'].str.strip()\n",
    "demographics_df['PK_USER'] = demographics_df['PK_USER'].str.strip()\n",
    "demographics_df['ID_TYPE'] = demographics_df['ID_TYPE'].str.strip()\n",
    "demographics_df['TYPE_USER'] = demographics_df['TYPE_USER'].str.strip()\n",
    "demographics_df['DEATH_DATE'] = demographics_df['DEATH_DATE'].str.strip()\n",
    "demographics_df['BIRTH_DATE'] = demographics_df['BIRTH_DATE'].str.strip()\n",
    "demographics_df['AGE'] = demographics_df['AGE'].str.strip()\n",
    "demographics_df['SEX'] = demographics_df['SEX'].str.strip()\n",
    "demographics_df['DVP_REG_CODE'] = demographics_df['DVP_REG_CODE'].str.strip()\n",
    "demographics_df['DVP_PRO_CODEO'] = demographics_df['DVP_PRO_CODEO'].str.strip()\n",
    "demographics_df['CENTER_ID'] = demographics_df['CENTER_ID'].str.strip()\n",
    "\n",
    "demographics_df = demographics_df[:][1:]\n",
    "demographics_df = demographics_df[demographics_df['PAT_ID'].isna() == False]\n",
    "\n",
    "demographics_df['isNumeric'] = list(map(lambda x: x.isnumeric(), demographics_df['PAT_ID']))\n",
    "demographics_df = demographics_df[demographics_df['isNumeric'] == True]"
   ]
  },
  {
   "cell_type": "code",
   "execution_count": 14,
   "id": "3d4b035a",
   "metadata": {},
   "outputs": [],
   "source": [
    "CVDCodes_df['DIA_TEXT'] = CVDCodes_df['DIA_TEXT'].astype('string')\n",
    "CVDCodes_df['DIA_CODE'] = CVDCodes_df['DIA_CODE'].astype('string')\n",
    "CVDCodes_df['DIA_TEXT'] = CVDCodes_df['DIA_TEXT'].str.strip()\n",
    "CVDCodes_df['DIA_CODE'] = CVDCodes_df['DIA_CODE'].str.strip()"
   ]
  },
  {
   "cell_type": "code",
   "execution_count": 15,
   "id": "e71edb50",
   "metadata": {},
   "outputs": [],
   "source": [
    "diagnostics_df['PK_USER'] = diagnostics_df['PK_USER'].astype('string')\n",
    "diagnostics_df['DIA_CODE'] = diagnostics_df['DIA_CODE'].astype('string')"
   ]
  },
  {
   "cell_type": "code",
   "execution_count": 16,
   "id": "c092844d",
   "metadata": {},
   "outputs": [],
   "source": [
    "diagnostics_df['PK_USER'] = diagnostics_df['PK_USER'].str.strip()\n",
    "diagnostics_df['DIA_CODE'] = diagnostics_df['DIA_CODE'].str.strip()"
   ]
  },
  {
   "cell_type": "code",
   "execution_count": 17,
   "id": "988f3616",
   "metadata": {},
   "outputs": [],
   "source": [
    "hypertension_df['isNumeric'] = list(map(lambda x: x.isnumeric(), hypertension_df['PAT_ID']))\n",
    "hypertension_df = hypertension_df[hypertension_df['isNumeric'] == True]\n",
    "\n",
    "weight_df['isNumeric'] = list(map(lambda x: x.isnumeric(), weight_df['PAT_ID']))\n",
    "weight_df = weight_df[weight_df['isNumeric'] == True]"
   ]
  },
  {
   "cell_type": "code",
   "execution_count": 18,
   "id": "a37d0d6d",
   "metadata": {},
   "outputs": [],
   "source": [
    "albumin_df = albumin_df.rename(columns={\"RESULT\": \"albumin\"})\n",
    "creatinine_df = creatinine_df.rename(columns={\"RESULT\": \"creatinine\"})"
   ]
  },
  {
   "cell_type": "code",
   "execution_count": 19,
   "id": "43d30e5f",
   "metadata": {},
   "outputs": [
    {
     "data": {
      "text/html": [
       "<div>\n",
       "<style scoped>\n",
       "    .dataframe tbody tr th:only-of-type {\n",
       "        vertical-align: middle;\n",
       "    }\n",
       "\n",
       "    .dataframe tbody tr th {\n",
       "        vertical-align: top;\n",
       "    }\n",
       "\n",
       "    .dataframe thead th {\n",
       "        text-align: right;\n",
       "    }\n",
       "</style>\n",
       "<table border=\"1\" class=\"dataframe\">\n",
       "  <thead>\n",
       "    <tr style=\"text-align: right;\">\n",
       "      <th></th>\n",
       "      <th>PK_USER</th>\n",
       "      <th>ID_TYPE</th>\n",
       "      <th>BIRTH_DATE</th>\n",
       "      <th>DEATH_DATE</th>\n",
       "      <th>AGE</th>\n",
       "      <th>SEX</th>\n",
       "      <th>DVP_REG_CODE</th>\n",
       "      <th>DVP_PRO_CODEO</th>\n",
       "      <th>TYPE_USER</th>\n",
       "      <th>CENTER_ID</th>\n",
       "      <th>isNumeric</th>\n",
       "    </tr>\n",
       "    <tr>\n",
       "      <th>PAT_ID</th>\n",
       "      <th></th>\n",
       "      <th></th>\n",
       "      <th></th>\n",
       "      <th></th>\n",
       "      <th></th>\n",
       "      <th></th>\n",
       "      <th></th>\n",
       "      <th></th>\n",
       "      <th></th>\n",
       "      <th></th>\n",
       "      <th></th>\n",
       "    </tr>\n",
       "  </thead>\n",
       "  <tbody>\n",
       "    <tr>\n",
       "      <th>50500501</th>\n",
       "      <td>2</td>\n",
       "      <td>CC</td>\n",
       "      <td>1978/05/06</td>\n",
       "      <td>1900/01/01</td>\n",
       "      <td>44.0</td>\n",
       "      <td>FEMENINO</td>\n",
       "      <td>11</td>\n",
       "      <td>001</td>\n",
       "      <td>BENEFICIARIO</td>\n",
       "      <td>92.0</td>\n",
       "      <td>True</td>\n",
       "    </tr>\n",
       "    <tr>\n",
       "      <th>60600600</th>\n",
       "      <td>3</td>\n",
       "      <td>CC</td>\n",
       "      <td>1980/01/01</td>\n",
       "      <td>1900/01/01</td>\n",
       "      <td>42.0</td>\n",
       "      <td>MASCULINO</td>\n",
       "      <td>11</td>\n",
       "      <td>001</td>\n",
       "      <td>BENEFICIARIO</td>\n",
       "      <td>92.0</td>\n",
       "      <td>True</td>\n",
       "    </tr>\n",
       "    <tr>\n",
       "      <th>51578920</th>\n",
       "      <td>4</td>\n",
       "      <td>CC</td>\n",
       "      <td>1958/03/27</td>\n",
       "      <td>1900/01/01</td>\n",
       "      <td>64.0</td>\n",
       "      <td>FEMENINO</td>\n",
       "      <td>11</td>\n",
       "      <td>001</td>\n",
       "      <td>COTIZANTE</td>\n",
       "      <td>92.0</td>\n",
       "      <td>True</td>\n",
       "    </tr>\n",
       "    <tr>\n",
       "      <th>12647759</th>\n",
       "      <td>5</td>\n",
       "      <td>CC</td>\n",
       "      <td>1980/09/20</td>\n",
       "      <td>1900/01/01</td>\n",
       "      <td>42.0</td>\n",
       "      <td>MASCULINO</td>\n",
       "      <td>54</td>\n",
       "      <td>261</td>\n",
       "      <td>COTIZANTE</td>\n",
       "      <td>92.0</td>\n",
       "      <td>True</td>\n",
       "    </tr>\n",
       "    <tr>\n",
       "      <th>000055</th>\n",
       "      <td>6</td>\n",
       "      <td>CC</td>\n",
       "      <td>1968/08/08</td>\n",
       "      <td>1900/01/01</td>\n",
       "      <td>54.0</td>\n",
       "      <td>MASCULINO</td>\n",
       "      <td>11</td>\n",
       "      <td>001</td>\n",
       "      <td>BENEFICIARIO</td>\n",
       "      <td>333.0</td>\n",
       "      <td>True</td>\n",
       "    </tr>\n",
       "    <tr>\n",
       "      <th>...</th>\n",
       "      <td>...</td>\n",
       "      <td>...</td>\n",
       "      <td>...</td>\n",
       "      <td>...</td>\n",
       "      <td>...</td>\n",
       "      <td>...</td>\n",
       "      <td>...</td>\n",
       "      <td>...</td>\n",
       "      <td>...</td>\n",
       "      <td>...</td>\n",
       "      <td>...</td>\n",
       "    </tr>\n",
       "    <tr>\n",
       "      <th>1000693086</th>\n",
       "      <td>635846</td>\n",
       "      <td>CC</td>\n",
       "      <td>2002/11/11</td>\n",
       "      <td>1900/01/01</td>\n",
       "      <td>19.0</td>\n",
       "      <td>MASCULINO</td>\n",
       "      <td>66</td>\n",
       "      <td>170</td>\n",
       "      <td>BENEFICIARIO</td>\n",
       "      <td>327.0</td>\n",
       "      <td>True</td>\n",
       "    </tr>\n",
       "    <tr>\n",
       "      <th>1144144939</th>\n",
       "      <td>635847</td>\n",
       "      <td>CC</td>\n",
       "      <td>1990/11/18</td>\n",
       "      <td>1900/01/01</td>\n",
       "      <td>31.0</td>\n",
       "      <td>MASCULINO</td>\n",
       "      <td>76</td>\n",
       "      <td>001</td>\n",
       "      <td>BENEFICIARIO</td>\n",
       "      <td>77.0</td>\n",
       "      <td>True</td>\n",
       "    </tr>\n",
       "    <tr>\n",
       "      <th>1039687381</th>\n",
       "      <td>635848</td>\n",
       "      <td>CC</td>\n",
       "      <td>1989/06/17</td>\n",
       "      <td>1900/01/01</td>\n",
       "      <td>33.0</td>\n",
       "      <td>MASCULINO</td>\n",
       "      <td>19</td>\n",
       "      <td>001</td>\n",
       "      <td>COTIZANTE</td>\n",
       "      <td>4.0</td>\n",
       "      <td>True</td>\n",
       "    </tr>\n",
       "    <tr>\n",
       "      <th>1061737098</th>\n",
       "      <td>635849</td>\n",
       "      <td>CC</td>\n",
       "      <td>1991/04/30</td>\n",
       "      <td>1900/01/01</td>\n",
       "      <td>31.0</td>\n",
       "      <td>MASCULINO</td>\n",
       "      <td>19</td>\n",
       "      <td>001</td>\n",
       "      <td>BENEFICIARIO</td>\n",
       "      <td>29.0</td>\n",
       "      <td>True</td>\n",
       "    </tr>\n",
       "    <tr>\n",
       "      <th>1089385769</th>\n",
       "      <td>635850</td>\n",
       "      <td>TI</td>\n",
       "      <td>2010/05/23</td>\n",
       "      <td>1900/01/01</td>\n",
       "      <td>12.0</td>\n",
       "      <td>MASCULINO</td>\n",
       "      <td>66</td>\n",
       "      <td>170</td>\n",
       "      <td>BENEFICIARIO</td>\n",
       "      <td>327.0</td>\n",
       "      <td>True</td>\n",
       "    </tr>\n",
       "  </tbody>\n",
       "</table>\n",
       "<p>614237 rows × 11 columns</p>\n",
       "</div>"
      ],
      "text/plain": [
       "           PK_USER ID_TYPE  BIRTH_DATE  DEATH_DATE   AGE        SEX  \\\n",
       "PAT_ID                                                                \n",
       "50500501         2      CC  1978/05/06  1900/01/01  44.0   FEMENINO   \n",
       "60600600         3      CC  1980/01/01  1900/01/01  42.0  MASCULINO   \n",
       "51578920         4      CC  1958/03/27  1900/01/01  64.0   FEMENINO   \n",
       "12647759         5      CC  1980/09/20  1900/01/01  42.0  MASCULINO   \n",
       "000055           6      CC  1968/08/08  1900/01/01  54.0  MASCULINO   \n",
       "...            ...     ...         ...         ...   ...        ...   \n",
       "1000693086  635846      CC  2002/11/11  1900/01/01  19.0  MASCULINO   \n",
       "1144144939  635847      CC  1990/11/18  1900/01/01  31.0  MASCULINO   \n",
       "1039687381  635848      CC  1989/06/17  1900/01/01  33.0  MASCULINO   \n",
       "1061737098  635849      CC  1991/04/30  1900/01/01  31.0  MASCULINO   \n",
       "1089385769  635850      TI  2010/05/23  1900/01/01  12.0  MASCULINO   \n",
       "\n",
       "           DVP_REG_CODE DVP_PRO_CODEO     TYPE_USER CENTER_ID  isNumeric  \n",
       "PAT_ID                                                                    \n",
       "50500501             11           001  BENEFICIARIO      92.0       True  \n",
       "60600600             11           001  BENEFICIARIO      92.0       True  \n",
       "51578920             11           001     COTIZANTE      92.0       True  \n",
       "12647759             54           261     COTIZANTE      92.0       True  \n",
       "000055               11           001  BENEFICIARIO     333.0       True  \n",
       "...                 ...           ...           ...       ...        ...  \n",
       "1000693086           66           170  BENEFICIARIO     327.0       True  \n",
       "1144144939           76           001  BENEFICIARIO      77.0       True  \n",
       "1039687381           19           001     COTIZANTE       4.0       True  \n",
       "1061737098           19           001  BENEFICIARIO      29.0       True  \n",
       "1089385769           66           170  BENEFICIARIO     327.0       True  \n",
       "\n",
       "[614237 rows x 11 columns]"
      ]
     },
     "execution_count": 19,
     "metadata": {},
     "output_type": "execute_result"
    }
   ],
   "source": [
    "albumin_df.set_index('PAT_ID')\n",
    "creatinine_df.set_index('PAT_ID')\n",
    "hemoglobin_df.set_index('PAT_ID')\n",
    "hypertension_df.set_index('PAT_ID')\n",
    "weight_df.set_index('PAT_ID')\n",
    "height_df.set_index('PAT_ID')\n",
    "demographics_df.set_index('PAT_ID')"
   ]
  },
  {
   "cell_type": "code",
   "execution_count": 24,
   "id": "5deec394",
   "metadata": {},
   "outputs": [],
   "source": [
    "albumin_df.to_csv(r'../cleaned_data/albumin.csv', sep=',', encoding='utf-8', header='true')\n",
    "creatinine_df.to_csv(r'../cleaned_data/creatinine.csv', sep=',', encoding='utf-8', header='true')\n",
    "hemoglobin_df.to_csv(r'../cleaned_data/hemoglobin.csv', sep=',', encoding='utf-8', header='true')\n",
    "hypertension_df.to_csv(r'../cleaned_data/hypertension.csv', sep=',', encoding='utf-8', header='true')\n",
    "weight_df.to_csv(r'../cleaned_data/weight.csv', sep=',', encoding='utf-8', header='true')\n",
    "height_df.to_csv(r'../cleaned_data/height.csv', sep=',', encoding='utf-8', header='true')\n",
    "demographics_df.to_csv(r'../cleaned_data/demographics.csv', sep=',', encoding='utf-8', header='true')\n",
    "CVDCodes_df.to_csv(r'../cleaned_data/cvd_codes.csv', sep=',', encoding='utf-8', header='true')\n",
    "diagnostics_df.to_csv(r'../cleaned_data/diagnostics.csv', sep=',', encoding='utf-8', header='true')\n"
   ]
  },
  {
   "cell_type": "code",
   "execution_count": 20,
   "id": "c43211fe",
   "metadata": {},
   "outputs": [],
   "source": [
    "# result1 = pd.merge(albumin_df, creatinine_df, how=\"inner\", on=[\"PAT_ID\", \"PAT_ID\"])"
   ]
  },
  {
   "cell_type": "code",
   "execution_count": 21,
   "id": "52998902",
   "metadata": {},
   "outputs": [],
   "source": [
    "# result2 = pd.merge(hemoglobin_df, creatinine_df, how=\"inner\", on=[\"PAT_ID\", \"PAT_ID\"])"
   ]
  },
  {
   "cell_type": "code",
   "execution_count": 22,
   "id": "7c8de4a7",
   "metadata": {},
   "outputs": [],
   "source": [
    "# result3 = pd.merge(result2, albumin_df, how=\"inner\", on=[\"PAT_ID\", \"PAT_ID\"])"
   ]
  }
 ],
 "metadata": {
  "kernelspec": {
   "display_name": "Python 3.8.8 ('base')",
   "language": "python",
   "name": "python3"
  },
  "language_info": {
   "codemirror_mode": {
    "name": "ipython",
    "version": 3
   },
   "file_extension": ".py",
   "mimetype": "text/x-python",
   "name": "python",
   "nbconvert_exporter": "python",
   "pygments_lexer": "ipython3",
   "version": "3.8.8"
  },
  "vscode": {
   "interpreter": {
    "hash": "413a07e1ad969ecf435029fab0e4751808051d0f566828a98f3858fc730aecfc"
   }
  }
 },
 "nbformat": 4,
 "nbformat_minor": 5
}
