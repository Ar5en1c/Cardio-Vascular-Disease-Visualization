{
 "cells": [
  {
   "cell_type": "code",
   "execution_count": 29,
   "id": "48da00bb",
   "metadata": {},
   "outputs": [],
   "source": [
    "# Imports\n",
    "import pandas as pd\n",
    "import numpy as np\n",
    "import matplotlib.pyplot as plt\n",
    "import seaborn as sns\n",
    "import re"
   ]
  },
  {
   "cell_type": "code",
   "execution_count": 30,
   "id": "f5f36cdb",
   "metadata": {},
   "outputs": [],
   "source": [
    "# Read files\n",
    "albumin_df = pd.read_csv('albumin.txt', sep='|')\n",
    "creatinine_df = pd.read_csv('creatinine.txt', sep='|')\n",
    "height_df = pd.read_csv('height.txt', sep='|')\n",
    "hypertension_df = pd.read_csv('hypertension.txt', sep='|')\n",
    "weight_df = pd.read_csv('weight.txt', sep='|')\n",
    "\n",
    "# print(albumin_df.info(), '\\n')\n",
    "# print(creatinine_df.info(), '\\n')\n",
    "# print(height_df.info(), '\\n')\n",
    "# print(weight_df.info(), '\\n')\n",
    "# print(hypertension_df.info(), '\\n')"
   ]
  },
  {
   "cell_type": "code",
   "execution_count": 31,
   "id": "fe07a5ef",
   "metadata": {},
   "outputs": [
    {
     "name": "stdout",
     "output_type": "stream",
     "text": [
      "<class 'pandas.core.frame.DataFrame'>\n",
      "RangeIndex: 125905 entries, 0 to 125904\n",
      "Data columns (total 6 columns):\n",
      " #   Column            Non-Null Count   Dtype \n",
      "---  ------            --------------   ----- \n",
      " 0   RESULT            125896 non-null  object\n",
      " 1   CEX_RES_SECUENCE  125905 non-null  int64 \n",
      " 2   TYPE_DOC          125905 non-null  object\n",
      " 3   PAT_ID            125905 non-null  object\n",
      " 4   DATE              125905 non-null  object\n",
      " 5   FORM_NUMBER       125905 non-null  int64 \n",
      "dtypes: int64(2), object(4)\n",
      "memory usage: 5.8+ MB\n"
     ]
    }
   ],
   "source": [
    "# open hemoglobin file, replace ',' with '.'\n",
    "f = open('glycosylated_hemoglobin.txt','r')\n",
    "filedata = f.read()\n",
    "f.close()\n",
    "newdata = filedata.replace(\",\",\".\")\n",
    "\n",
    "# Create new file, read df from new file\n",
    "f = open('hemoglobin.txt','w')\n",
    "f.write(newdata)\n",
    "f.close()\n",
    "\n",
    "# Read hemoglobin to df\n",
    "hemoglobin_df = pd.read_csv('hemoglobin.txt', sep='|')\n",
    "hemoglobin_df.info()"
   ]
  },
  {
   "cell_type": "code",
   "execution_count": 32,
   "id": "1f13ba10",
   "metadata": {},
   "outputs": [
    {
     "name": "stdout",
     "output_type": "stream",
     "text": [
      "<class 'pandas.core.frame.DataFrame'>\n",
      "RangeIndex: 819955 entries, 0 to 819954\n",
      "Data columns (total 7 columns):\n",
      " #   Column              Non-Null Count   Dtype  \n",
      "---  ------              --------------   -----  \n",
      " 0   PAT_ID              819955 non-null  object \n",
      " 1   TYPE_DOC            819955 non-null  object \n",
      " 2   MTV_CORRELATION     819955 non-null  int64  \n",
      " 3   TABENCUENTRO        819955 non-null  int64  \n",
      " 4   DATE                819955 non-null  object \n",
      " 5   SYSTOLIC_PRESSURE   819955 non-null  int64  \n",
      " 6   DIASTOLIC_PRESSURE  819955 non-null  float64\n",
      "dtypes: float64(1), int64(3), object(3)\n",
      "memory usage: 43.8+ MB\n"
     ]
    }
   ],
   "source": [
    "hypertension_df.info()"
   ]
  },
  {
   "cell_type": "code",
   "execution_count": 34,
   "id": "1f90ebf2",
   "metadata": {},
   "outputs": [
    {
     "name": "stderr",
     "output_type": "stream",
     "text": [
      "C:\\Users\\aranga22\\AppData\\Local\\Temp/ipykernel_17280/3388639217.py:15: FutureWarning: The default value of regex will change from True to False in a future version.\n",
      "  frame['PAT_ID'] = frame['PAT_ID'].str.replace('\\W', '')\n"
     ]
    },
    {
     "name": "stdout",
     "output_type": "stream",
     "text": [
      "<class 'pandas.core.frame.DataFrame'>\n",
      "Int64Index: 6224 entries, 0 to 6224\n",
      "Data columns (total 6 columns):\n",
      " #   Column            Non-Null Count  Dtype         \n",
      "---  ------            --------------  -----         \n",
      " 0   CEX_RES_SECUENCE  6224 non-null   int64         \n",
      " 1   TYPE_DOC          6224 non-null   object        \n",
      " 2   PAT_ID            6224 non-null   object        \n",
      " 3   DATE              6224 non-null   datetime64[ns]\n",
      " 4   FORM_NUMBER       6224 non-null   int64         \n",
      " 5   result            6224 non-null   float64       \n",
      "dtypes: datetime64[ns](1), float64(1), int64(2), object(2)\n",
      "memory usage: 340.4+ KB\n",
      "None\n"
     ]
    },
    {
     "name": "stderr",
     "output_type": "stream",
     "text": [
      "C:\\Users\\aranga22\\AppData\\Local\\Temp/ipykernel_17280/3388639217.py:8: SettingWithCopyWarning: \n",
      "A value is trying to be set on a copy of a slice from a DataFrame.\n",
      "Try using .loc[row_indexer,col_indexer] = value instead\n",
      "\n",
      "See the caveats in the documentation: https://pandas.pydata.org/pandas-docs/stable/user_guide/indexing.html#returning-a-view-versus-a-copy\n",
      "  frame['RESULT'] = frame['RESULT'].str.replace(',', '.')\n",
      "C:\\Users\\aranga22\\AppData\\Local\\Temp/ipykernel_17280/3388639217.py:9: SettingWithCopyWarning: \n",
      "A value is trying to be set on a copy of a slice from a DataFrame.\n",
      "Try using .loc[row_indexer,col_indexer] = value instead\n",
      "\n",
      "See the caveats in the documentation: https://pandas.pydata.org/pandas-docs/stable/user_guide/indexing.html#returning-a-view-versus-a-copy\n",
      "  frame['result'] = frame['RESULT'].apply(lambda x: re.findall(r\"[-+]?(?:\\d*\\.\\d+|\\d+)\", x))\n",
      "C:\\Users\\aranga22\\AppData\\Local\\Temp/ipykernel_17280/3388639217.py:15: FutureWarning: The default value of regex will change from True to False in a future version.\n",
      "  frame['PAT_ID'] = frame['PAT_ID'].str.replace('\\W', '')\n"
     ]
    },
    {
     "name": "stdout",
     "output_type": "stream",
     "text": [
      "<class 'pandas.core.frame.DataFrame'>\n",
      "Int64Index: 197506 entries, 0 to 197692\n",
      "Data columns (total 5 columns):\n",
      " #   Column       Non-Null Count   Dtype         \n",
      "---  ------       --------------   -----         \n",
      " 0   TYPE_DOC     197506 non-null  object        \n",
      " 1   PAT_ID       197506 non-null  object        \n",
      " 2   DATE         197506 non-null  datetime64[ns]\n",
      " 3   FORM_NUMBER  197506 non-null  int64         \n",
      " 4   result       197506 non-null  float64       \n",
      "dtypes: datetime64[ns](1), float64(1), int64(1), object(2)\n",
      "memory usage: 9.0+ MB\n",
      "None\n"
     ]
    },
    {
     "name": "stderr",
     "output_type": "stream",
     "text": [
      "C:\\Users\\aranga22\\AppData\\Local\\Temp/ipykernel_17280/3388639217.py:15: FutureWarning: The default value of regex will change from True to False in a future version.\n",
      "  frame['PAT_ID'] = frame['PAT_ID'].str.replace('\\W', '')\n"
     ]
    },
    {
     "name": "stdout",
     "output_type": "stream",
     "text": [
      "<class 'pandas.core.frame.DataFrame'>\n",
      "RangeIndex: 709481 entries, 0 to 709480\n",
      "Data columns (total 6 columns):\n",
      " #   Column      Non-Null Count   Dtype         \n",
      "---  ------      --------------   -----         \n",
      " 0   PAT_ID      709481 non-null  object        \n",
      " 1   TYPE_DOC    709481 non-null  object        \n",
      " 2   CORRETALLA  709481 non-null  int64         \n",
      " 3   ENCUTALLA   709481 non-null  int64         \n",
      " 4   DATE        709481 non-null  datetime64[ns]\n",
      " 5   HEIGHT      709481 non-null  float64       \n",
      "dtypes: datetime64[ns](1), float64(1), int64(2), object(2)\n",
      "memory usage: 32.5+ MB\n",
      "None\n"
     ]
    },
    {
     "name": "stderr",
     "output_type": "stream",
     "text": [
      "C:\\Users\\aranga22\\AppData\\Local\\Temp/ipykernel_17280/3388639217.py:15: FutureWarning: The default value of regex will change from True to False in a future version.\n",
      "  frame['PAT_ID'] = frame['PAT_ID'].str.replace('\\W', '')\n"
     ]
    },
    {
     "name": "stdout",
     "output_type": "stream",
     "text": [
      "<class 'pandas.core.frame.DataFrame'>\n",
      "RangeIndex: 819955 entries, 0 to 819954\n",
      "Data columns (total 7 columns):\n",
      " #   Column              Non-Null Count   Dtype         \n",
      "---  ------              --------------   -----         \n",
      " 0   PAT_ID              819955 non-null  object        \n",
      " 1   TYPE_DOC            819955 non-null  object        \n",
      " 2   MTV_CORRELATION     819955 non-null  int64         \n",
      " 3   TABENCUENTRO        819955 non-null  int64         \n",
      " 4   DATE                819955 non-null  datetime64[ns]\n",
      " 5   SYSTOLIC_PRESSURE   819955 non-null  int64         \n",
      " 6   DIASTOLIC_PRESSURE  819955 non-null  float64       \n",
      "dtypes: datetime64[ns](1), float64(1), int64(3), object(2)\n",
      "memory usage: 43.8+ MB\n",
      "None\n"
     ]
    },
    {
     "name": "stderr",
     "output_type": "stream",
     "text": [
      "C:\\Users\\aranga22\\AppData\\Local\\Temp/ipykernel_17280/3388639217.py:15: FutureWarning: The default value of regex will change from True to False in a future version.\n",
      "  frame['PAT_ID'] = frame['PAT_ID'].str.replace('\\W', '')\n"
     ]
    },
    {
     "name": "stdout",
     "output_type": "stream",
     "text": [
      "<class 'pandas.core.frame.DataFrame'>\n",
      "RangeIndex: 744192 entries, 0 to 744191\n",
      "Data columns (total 6 columns):\n",
      " #   Column          Non-Null Count   Dtype         \n",
      "---  ------          --------------   -----         \n",
      " 0   PAT_ID          744192 non-null  object        \n",
      " 1   TYPE_DOC        744192 non-null  object        \n",
      " 2   CORRE_PESO      744192 non-null  int64         \n",
      " 3   ENCUENTRO_PESO  744192 non-null  int64         \n",
      " 4   DATE            744192 non-null  datetime64[ns]\n",
      " 5   WEIGHT          744192 non-null  float64       \n",
      "dtypes: datetime64[ns](1), float64(1), int64(2), object(2)\n",
      "memory usage: 34.1+ MB\n",
      "None\n"
     ]
    },
    {
     "name": "stderr",
     "output_type": "stream",
     "text": [
      "C:\\Users\\aranga22\\AppData\\Local\\Temp/ipykernel_17280/3388639217.py:8: SettingWithCopyWarning: \n",
      "A value is trying to be set on a copy of a slice from a DataFrame.\n",
      "Try using .loc[row_indexer,col_indexer] = value instead\n",
      "\n",
      "See the caveats in the documentation: https://pandas.pydata.org/pandas-docs/stable/user_guide/indexing.html#returning-a-view-versus-a-copy\n",
      "  frame['RESULT'] = frame['RESULT'].str.replace(',', '.')\n",
      "C:\\Users\\aranga22\\AppData\\Local\\Temp/ipykernel_17280/3388639217.py:9: SettingWithCopyWarning: \n",
      "A value is trying to be set on a copy of a slice from a DataFrame.\n",
      "Try using .loc[row_indexer,col_indexer] = value instead\n",
      "\n",
      "See the caveats in the documentation: https://pandas.pydata.org/pandas-docs/stable/user_guide/indexing.html#returning-a-view-versus-a-copy\n",
      "  frame['result'] = frame['RESULT'].apply(lambda x: re.findall(r\"[-+]?(?:\\d*\\.\\d+|\\d+)\", x))\n",
      "C:\\Users\\aranga22\\AppData\\Local\\Temp/ipykernel_17280/3388639217.py:15: FutureWarning: The default value of regex will change from True to False in a future version.\n",
      "  frame['PAT_ID'] = frame['PAT_ID'].str.replace('\\W', '')\n"
     ]
    },
    {
     "name": "stdout",
     "output_type": "stream",
     "text": [
      "<class 'pandas.core.frame.DataFrame'>\n",
      "Int64Index: 125857 entries, 0 to 125904\n",
      "Data columns (total 6 columns):\n",
      " #   Column            Non-Null Count   Dtype         \n",
      "---  ------            --------------   -----         \n",
      " 0   CEX_RES_SECUENCE  125857 non-null  int64         \n",
      " 1   TYPE_DOC          125857 non-null  object        \n",
      " 2   PAT_ID            125857 non-null  object        \n",
      " 3   DATE              125857 non-null  datetime64[ns]\n",
      " 4   FORM_NUMBER       125857 non-null  int64         \n",
      " 5   result            125857 non-null  float64       \n",
      "dtypes: datetime64[ns](1), float64(1), int64(2), object(2)\n",
      "memory usage: 6.7+ MB\n",
      "None\n"
     ]
    }
   ],
   "source": [
    "# clean data \n",
    "\n",
    "data_frames = [albumin_df, creatinine_df, height_df, hypertension_df, weight_df, hemoglobin_df]\n",
    "\n",
    "for frame in data_frames:\n",
    "    if 'RESULT' in list(frame.columns):\n",
    "        frame = frame[frame['RESULT'].notna()]\n",
    "        frame['RESULT'] = frame['RESULT'].str.replace(',', '.') \n",
    "        frame['result'] = frame['RESULT'].apply(lambda x: re.findall(r\"[-+]?(?:\\d*\\.\\d+|\\d+)\", x))\n",
    "        frame = frame[frame[\"result\"].str.len() != 0]\n",
    "        frame['result'] = frame['result'].apply(lambda x: x[0])\n",
    "        frame['result'] = frame['result'].astype(float)\n",
    "        frame.drop(['RESULT'], axis=1, inplace=True)\n",
    "    frame['PAT_ID'] = frame['PAT_ID'].astype(str)\n",
    "    frame['PAT_ID'] = frame['PAT_ID'].str.replace('\\W', '')\n",
    "    frame['DATE'] = pd.to_datetime(frame['DATE'])\n",
    "    print(frame.info())"
   ]
  },
  {
   "cell_type": "code",
   "execution_count": null,
   "id": "1daf0af4",
   "metadata": {},
   "outputs": [],
   "source": []
  }
 ],
 "metadata": {
  "kernelspec": {
   "display_name": "Python 3 (ipykernel)",
   "language": "python",
   "name": "python3"
  },
  "language_info": {
   "codemirror_mode": {
    "name": "ipython",
    "version": 3
   },
   "file_extension": ".py",
   "mimetype": "text/x-python",
   "name": "python",
   "nbconvert_exporter": "python",
   "pygments_lexer": "ipython3",
   "version": "3.8.13"
  }
 },
 "nbformat": 4,
 "nbformat_minor": 5
}
