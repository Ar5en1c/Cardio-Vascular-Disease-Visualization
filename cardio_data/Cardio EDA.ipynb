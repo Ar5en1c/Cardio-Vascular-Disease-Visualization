{
 "cells": [
  {
   "cell_type": "code",
   "execution_count": 5,
   "id": "48da00bb",
   "metadata": {},
   "outputs": [],
   "source": [
    "# Imports\n",
    "import pandas as pd\n",
    "import numpy as np\n",
    "import matplotlib.pyplot as plt\n",
    "import seaborn as sns\n",
    "import re"
   ]
  },
  {
   "cell_type": "code",
   "execution_count": 6,
   "id": "f5f36cdb",
   "metadata": {},
   "outputs": [
    {
     "name": "stdout",
     "output_type": "stream",
     "text": [
      "<class 'pandas.core.frame.DataFrame'>\n",
      "RangeIndex: 6225 entries, 0 to 6224\n",
      "Data columns (total 6 columns):\n",
      " #   Column            Non-Null Count  Dtype \n",
      "---  ------            --------------  ----- \n",
      " 0   RESULT            6225 non-null   object\n",
      " 1   CEX_RES_SECUENCE  6225 non-null   int64 \n",
      " 2   TYPE_DOC          6225 non-null   object\n",
      " 3   PAT_ID            6225 non-null   int64 \n",
      " 4   DATE              6225 non-null   object\n",
      " 5   FORM_NUMBER       6225 non-null   int64 \n",
      "dtypes: int64(3), object(3)\n",
      "memory usage: 291.9+ KB\n",
      "None \n",
      "\n",
      "<class 'pandas.core.frame.DataFrame'>\n",
      "RangeIndex: 197693 entries, 0 to 197692\n",
      "Data columns (total 5 columns):\n",
      " #   Column       Non-Null Count   Dtype \n",
      "---  ------       --------------   ----- \n",
      " 0   RESULT       197592 non-null  object\n",
      " 1   TYPE_DOC     197693 non-null  object\n",
      " 2   PAT_ID       197693 non-null  object\n",
      " 3   DATE         197693 non-null  object\n",
      " 4   FORM_NUMBER  197693 non-null  int64 \n",
      "dtypes: int64(1), object(4)\n",
      "memory usage: 7.5+ MB\n",
      "None \n",
      "\n",
      "<class 'pandas.core.frame.DataFrame'>\n",
      "RangeIndex: 709481 entries, 0 to 709480\n",
      "Data columns (total 6 columns):\n",
      " #   Column      Non-Null Count   Dtype  \n",
      "---  ------      --------------   -----  \n",
      " 0   PAT_ID      709481 non-null  object \n",
      " 1   TYPE_DOC    709481 non-null  object \n",
      " 2   CORRETALLA  709481 non-null  int64  \n",
      " 3   ENCUTALLA   709481 non-null  int64  \n",
      " 4   DATE        709481 non-null  object \n",
      " 5   HEIGHT      709481 non-null  float64\n",
      "dtypes: float64(1), int64(2), object(3)\n",
      "memory usage: 32.5+ MB\n",
      "None \n",
      "\n",
      "<class 'pandas.core.frame.DataFrame'>\n",
      "RangeIndex: 744192 entries, 0 to 744191\n",
      "Data columns (total 6 columns):\n",
      " #   Column          Non-Null Count   Dtype  \n",
      "---  ------          --------------   -----  \n",
      " 0   PAT_ID          744192 non-null  object \n",
      " 1   TYPE_DOC        744192 non-null  object \n",
      " 2   CORRE_PESO      744192 non-null  int64  \n",
      " 3   ENCUENTRO_PESO  744192 non-null  int64  \n",
      " 4   DATE            744192 non-null  object \n",
      " 5   WEIGHT          744192 non-null  float64\n",
      "dtypes: float64(1), int64(2), object(3)\n",
      "memory usage: 34.1+ MB\n",
      "None \n",
      "\n",
      "<class 'pandas.core.frame.DataFrame'>\n",
      "RangeIndex: 819955 entries, 0 to 819954\n",
      "Data columns (total 7 columns):\n",
      " #   Column              Non-Null Count   Dtype  \n",
      "---  ------              --------------   -----  \n",
      " 0   PAT_ID              819955 non-null  object \n",
      " 1   TYPE_DOC            819955 non-null  object \n",
      " 2   MTV_CORRELATION     819955 non-null  int64  \n",
      " 3   TABENCUENTRO        819955 non-null  int64  \n",
      " 4   DATE                819955 non-null  object \n",
      " 5   SYSTOLIC_PRESSURE   819955 non-null  int64  \n",
      " 6   DIASTOLIC_PRESSURE  819955 non-null  float64\n",
      "dtypes: float64(1), int64(3), object(3)\n",
      "memory usage: 43.8+ MB\n",
      "None \n",
      "\n"
     ]
    }
   ],
   "source": [
    "# Read files\n",
    "albumin_df = pd.read_csv('albumin.txt', sep='|')\n",
    "creatinine_df = pd.read_csv('creatinine.txt', sep='|')\n",
    "\n",
    "height_df = pd.read_csv('height.txt', sep='|')\n",
    "hypertension_df = pd.read_csv('hypertension.txt', sep='|')\n",
    "weight_df = pd.read_csv('weight.txt', sep='|')\n",
    "\n",
    "print(albumin_df.info(), '\\n')\n",
    "print(creatinine_df.info(), '\\n')\n",
    "print(height_df.info(), '\\n')\n",
    "print(weight_df.info(), '\\n')\n",
    "print(hypertension_df.info(), '\\n')"
   ]
  },
  {
   "cell_type": "code",
   "execution_count": 7,
   "id": "fe07a5ef",
   "metadata": {},
   "outputs": [
    {
     "name": "stdout",
     "output_type": "stream",
     "text": [
      "<class 'pandas.core.frame.DataFrame'>\n",
      "RangeIndex: 125905 entries, 0 to 125904\n",
      "Data columns (total 6 columns):\n",
      " #   Column            Non-Null Count   Dtype \n",
      "---  ------            --------------   ----- \n",
      " 0   RESULT            125896 non-null  object\n",
      " 1   CEX_RES_SECUENCE  125905 non-null  int64 \n",
      " 2   TYPE_DOC          125905 non-null  object\n",
      " 3   PAT_ID            125905 non-null  object\n",
      " 4   DATE              125905 non-null  object\n",
      " 5   FORM_NUMBER       125905 non-null  int64 \n",
      "dtypes: int64(2), object(4)\n",
      "memory usage: 5.8+ MB\n"
     ]
    }
   ],
   "source": [
    "# open hemoglobin file, replace ',' with '.'\n",
    "f = open('glycosylated_hemoglobin.txt','r')\n",
    "filedata = f.read()\n",
    "f.close()\n",
    "newdata = filedata.replace(\",\",\".\")\n",
    "\n",
    "# Create new file, read df from new file\n",
    "f = open('hemoglobin.txt','w')\n",
    "f.write(newdata)\n",
    "f.close()\n",
    "\n",
    "# Read hemoglobin to df\n",
    "hemoglobin_df = pd.read_csv('hemoglobin.txt', sep='|')\n",
    "hemoglobin_df.info()"
   ]
  },
  {
   "cell_type": "code",
   "execution_count": 59,
   "id": "436ff59e",
   "metadata": {},
   "outputs": [
    {
     "name": "stdout",
     "output_type": "stream",
     "text": [
      "<class 'pandas.core.frame.DataFrame'>\n",
      "Int64Index: 125857 entries, 0 to 125904\n",
      "Data columns (total 7 columns):\n",
      " #   Column            Non-Null Count   Dtype  \n",
      "---  ------            --------------   -----  \n",
      " 0   RESULT            125857 non-null  object \n",
      " 1   CEX_RES_SECUENCE  125857 non-null  int64  \n",
      " 2   TYPE_DOC          125857 non-null  object \n",
      " 3   PAT_ID            125857 non-null  object \n",
      " 4   DATE              125857 non-null  object \n",
      " 5   FORM_NUMBER       125857 non-null  int64  \n",
      " 6   result            125857 non-null  float64\n",
      "dtypes: float64(1), int64(2), object(4)\n",
      "memory usage: 7.7+ MB\n"
     ]
    }
   ],
   "source": [
    "# Remove null values from hemoglobin\n",
    "hemoglobin_df = hemoglobin_df[hemoglobin_df['RESULT'].notna()]\n",
    "# Extract digits from string in RESULT (output is list)\n",
    "hemoglobin_df['result'] = hemoglobin_df['RESULT'].apply(lambda x: re.findall(r\"[-+]?(?:\\d*\\.\\d+|\\d+)\", x))\n",
    "# Get rid of empty lists\n",
    "hemoglobin_df = hemoglobin_df[hemoglobin_df[\"result\"].str.len() != 0]\n",
    "# Get rid of list and keep number\n",
    "hemoglobin_df['result'] = hemoglobin_df['result'].apply(lambda x: x[0])\n",
    "# Convert string to float\n",
    "hemoglobin_df['result'] = hemoglobin_df['result'].astype(float)\n",
    "hemoglobin_df.info()"
   ]
  },
  {
   "cell_type": "code",
   "execution_count": null,
   "id": "f006335c",
   "metadata": {},
   "outputs": [],
   "source": []
  }
 ],
 "metadata": {
  "kernelspec": {
   "display_name": "Python 3 (ipykernel)",
   "language": "python",
   "name": "python3"
  },
  "language_info": {
   "codemirror_mode": {
    "name": "ipython",
    "version": 3
   },
   "file_extension": ".py",
   "mimetype": "text/x-python",
   "name": "python",
   "nbconvert_exporter": "python",
   "pygments_lexer": "ipython3",
   "version": "3.8.13"
  }
 },
 "nbformat": 4,
 "nbformat_minor": 5
}
