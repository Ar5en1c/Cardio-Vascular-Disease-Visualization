{
 "cells": [
  {
   "cell_type": "code",
   "execution_count": 1,
   "metadata": {},
   "outputs": [],
   "source": [
    "import pandas as pd\n",
    "import numpy as np\n",
    "import matplotlib.pyplot as plt\n",
    "import seaborn as sns\n",
    "import re\n",
    "import operator as op"
   ]
  },
  {
   "cell_type": "code",
   "execution_count": 2,
   "metadata": {},
   "outputs": [],
   "source": [
    "bp_df = pd.read_csv('./blood_pressure.txt', sep='|')\n",
    "cholestrol_df = pd.read_csv('./cholesterol.txt', sep='|')\n",
    "creatnine_clearance_df = pd.read_csv('./creatinine_clearance.txt', sep='|')"
   ]
  },
  {
   "cell_type": "code",
   "execution_count": 6,
   "metadata": {},
   "outputs": [
    {
     "name": "stdout",
     "output_type": "stream",
     "text": [
      "<class 'pandas.core.frame.DataFrame'>\n",
      "RangeIndex: 109967 entries, 0 to 109966\n",
      "Data columns (total 3 columns):\n",
      " #   Column                     Non-Null Count   Dtype \n",
      "---  ------                     --------------   ----- \n",
      " 0   PK_PATIENT                 109967 non-null  int64 \n",
      " 1   creatinine_clearance       109861 non-null  object\n",
      " 2   creatinine_clearance_date  109967 non-null  object\n",
      "dtypes: int64(1), object(2)\n",
      "memory usage: 2.5+ MB\n"
     ]
    }
   ],
   "source": [
    "creatnine_clearance_df.info()"
   ]
  },
  {
   "cell_type": "code",
   "execution_count": 7,
   "metadata": {},
   "outputs": [],
   "source": [
    "creatnine_clearance_df['PK_PATIENT'] = creatnine_clearance_df['PK_PATIENT'].astype('string')\n",
    "creatnine_clearance_df['creatinine_clearance'] = creatnine_clearance_df['creatinine_clearance'].astype('string')\n",
    "creatnine_clearance_df['creatinine_clearance_date'] = creatnine_clearance_df['creatinine_clearance_date'].astype('string')\n",
    "\n",
    "creatnine_clearance_df['PK_PATIENT'] = creatnine_clearance_df['PK_PATIENT'].str.strip()\n",
    "creatnine_clearance_df['creatinine_clearance'] = creatnine_clearance_df['creatinine_clearance'].str.strip()\n",
    "creatnine_clearance_df['creatinine_clearance_date'] = creatnine_clearance_df['creatinine_clearance_date'].str.lstrip()\n",
    "creatnine_clearance_df['creatinine_clearance_date'] = creatnine_clearance_df['creatinine_clearance_date'].str.rstrip()"
   ]
  },
  {
   "cell_type": "code",
   "execution_count": 5,
   "metadata": {},
   "outputs": [],
   "source": [
    "cholestrol_df['PK_PATIENT'] = cholestrol_df['PK_PATIENT'].astype('string')\n",
    "cholestrol_df['cholesterol'] = cholestrol_df['cholesterol'].astype('string')\n",
    "cholestrol_df['cholesterol_date'] = cholestrol_df['cholesterol_date'].astype('string')\n",
    "\n",
    "cholestrol_df['PK_PATIENT'] = cholestrol_df['PK_PATIENT'].str.strip()\n",
    "cholestrol_df['cholesterol'] = cholestrol_df['cholesterol'].str.strip()\n",
    "cholestrol_df['cholesterol_date'] = cholestrol_df['cholesterol_date'].str.lstrip()\n",
    "cholestrol_df['cholesterol_date'] = cholestrol_df['cholesterol_date'].str.rstrip()"
   ]
  },
  {
   "cell_type": "code",
   "execution_count": 3,
   "metadata": {},
   "outputs": [],
   "source": [
    "bp_df['PK_PATIENT'] = bp_df['PK_PATIENT'].astype('string')\n",
    "bp_df['systolic'] = bp_df['systolic'].astype('string')\n",
    "bp_df['diastolic'] = bp_df['diastolic'].astype('string')\n",
    "bp_df['blood_pressure_date'] = bp_df['blood_pressure_date'].astype('string')\n",
    "\n",
    "bp_df['PK_PATIENT'] = bp_df['PK_PATIENT'].str.strip()\n",
    "bp_df['systolic'] = bp_df['systolic'].str.strip()\n",
    "bp_df['diastolic'] = bp_df['diastolic'].str.strip()\n",
    "bp_df['blood_pressure_date'] = bp_df['blood_pressure_date'].str.lstrip()\n",
    "bp_df['blood_pressure_date'] = bp_df['blood_pressure_date'].str.rstrip()"
   ]
  },
  {
   "cell_type": "code",
   "execution_count": 8,
   "metadata": {},
   "outputs": [],
   "source": [
    "bp_df.to_csv(r'./cleaned_data/bp.csv', sep=',', encoding='utf-8', header='true')\n",
    "cholestrol_df.to_csv(r'./cleaned_data/cholestrol.csv', sep=',', encoding='utf-8', header='true')\n",
    "creatnine_clearance_df.to_csv(r'./cleaned_data/creatnine_clearance.csv', sep=',', encoding='utf-8', header='true')"
   ]
  },
  {
   "cell_type": "code",
   "execution_count": 3,
   "metadata": {},
   "outputs": [],
   "source": [
    "glycemia_df = pd.read_csv('./glycemia.txt', sep='|',encoding='latin1',on_bad_lines='skip')\n",
    "demographics_df = pd.read_csv('./demogra_10192022.txt', sep='|',encoding='latin1')\n",
    "hemoglobin_df = pd.read_csv('./glycated_hemoglobin.txt', sep='|',encoding='latin1',on_bad_lines='skip')"
   ]
  },
  {
   "cell_type": "code",
   "execution_count": 7,
   "metadata": {},
   "outputs": [
    {
     "name": "stdout",
     "output_type": "stream",
     "text": [
      "<class 'pandas.core.frame.DataFrame'>\n",
      "RangeIndex: 501024 entries, 0 to 501023\n",
      "Data columns (total 3 columns):\n",
      " #   Column                    Non-Null Count   Dtype \n",
      "---  ------                    --------------   ----- \n",
      " 0   PK_PATIENT                501024 non-null  int64 \n",
      " 1   glycated_hemoglobin       500875 non-null  object\n",
      " 2   glycated_hemoglobin_date  501024 non-null  object\n",
      "dtypes: int64(1), object(2)\n",
      "memory usage: 11.5+ MB\n"
     ]
    }
   ],
   "source": [
    "hemoglobin_df.info()"
   ]
  },
  {
   "cell_type": "code",
   "execution_count": 8,
   "metadata": {},
   "outputs": [],
   "source": [
    "hemoglobin_df['PK_PATIENT'] = hemoglobin_df['PK_PATIENT'].astype('string')\n",
    "hemoglobin_df['glycated_hemoglobin'] = hemoglobin_df['glycated_hemoglobin'].astype('string')\n",
    "hemoglobin_df['glycated_hemoglobin_date'] = hemoglobin_df['glycated_hemoglobin_date'].astype('string')\n",
    "\n",
    "hemoglobin_df['PK_PATIENT'] = hemoglobin_df['PK_PATIENT'].str.strip()\n",
    "hemoglobin_df['glycated_hemoglobin'] = hemoglobin_df['glycated_hemoglobin'].str.strip()\n",
    "hemoglobin_df['glycated_hemoglobin_date'] = hemoglobin_df['glycated_hemoglobin_date'].str.lstrip()\n",
    "hemoglobin_df['glycated_hemoglobin_date'] = hemoglobin_df['glycated_hemoglobin_date'].str.rstrip()"
   ]
  },
  {
   "cell_type": "code",
   "execution_count": 6,
   "metadata": {},
   "outputs": [],
   "source": [
    "glycemia_df['PK_PATIENT'] = glycemia_df['PK_PATIENT'].astype('string')\n",
    "glycemia_df['glycemia'] = glycemia_df['glycemia'].astype('string')\n",
    "glycemia_df['glycemia_date'] = glycemia_df['glycemia_date'].astype('string')\n",
    "\n",
    "glycemia_df['PK_PATIENT'] = glycemia_df['PK_PATIENT'].str.strip()\n",
    "glycemia_df['glycemia'] = glycemia_df['glycemia'].str.strip()\n",
    "glycemia_df['glycemia_date'] = glycemia_df['glycemia_date'].str.lstrip()\n",
    "glycemia_df['glycemia_date'] = glycemia_df['glycemia_date'].str.rstrip()"
   ]
  },
  {
   "cell_type": "code",
   "execution_count": 4,
   "metadata": {},
   "outputs": [],
   "source": [
    "demographics_df.dropna()\n",
    "demographics_df.drop(columns=['IGNORE_THIS_COLUMN_1', 'IGNORE_THIS_COLUMN_2'])\n",
    "\n",
    "demographics_df['PK_PATIENT'] = demographics_df['PK_PATIENT'].astype('string')\n",
    "demographics_df['TYPE_USER'] = demographics_df['TYPE_USER'].astype('string')\n",
    "demographics_df['DEATH_DATE'] = demographics_df['DEATH_DATE'].astype('string')\n",
    "demographics_df['BIRTH_DATE'] = demographics_df['BIRTH_DATE'].astype('string')\n",
    "demographics_df['AGE'] = demographics_df['AGE'].astype('string')\n",
    "demographics_df['SEX'] = demographics_df['SEX'].astype('string')\n",
    "demographics_df['DVP_REG_CODE'] = demographics_df['DVP_REG_CODE'].astype('string')\n",
    "demographics_df['DVP_PRO_CODEO'] = demographics_df['DVP_PRO_CODEO'].astype('string')\n",
    "demographics_df['CENTER_ID'] = demographics_df['CENTER_ID'].astype('string')\n",
    "\n",
    "demographics_df['PK_PATIENT'] = demographics_df['PK_PATIENT'].str.strip()\n",
    "demographics_df['DEATH_DATE'] = demographics_df['DEATH_DATE'].str.strip()\n",
    "demographics_df['BIRTH_DATE'] = demographics_df['BIRTH_DATE'].str.strip()\n",
    "demographics_df['TYPE_USER'] = demographics_df['TYPE_USER'].str.strip()\n",
    "demographics_df['AGE'] = demographics_df['AGE'].str.strip()\n",
    "demographics_df['SEX'] = demographics_df['SEX'].str.strip()\n",
    "demographics_df['DVP_REG_CODE'] = demographics_df['DVP_REG_CODE'].str.strip()\n",
    "demographics_df['DVP_PRO_CODEO'] = demographics_df['DVP_PRO_CODEO'].str.strip()\n",
    "demographics_df['CENTER_ID'] = demographics_df['CENTER_ID'].str.strip()"
   ]
  },
  {
   "cell_type": "code",
   "execution_count": 9,
   "metadata": {},
   "outputs": [],
   "source": [
    "demographics_df.to_csv(r'./cleaned_data/demographics.csv', sep=',', encoding='utf-8', header='true')\n",
    "hemoglobin_df.to_csv(r'./cleaned_data/hemoglobin.csv', sep=',', encoding='utf-8', header='true')\n",
    "glycemia_df.to_csv(r'./cleaned_data/glycemia.csv', sep=',', encoding='utf-8', header='true')"
   ]
  },
  {
   "cell_type": "code",
   "execution_count": 2,
   "metadata": {},
   "outputs": [],
   "source": [
    "diagnosis_df = pd.read_csv('./diagnosis.txt', sep='|')"
   ]
  },
  {
   "cell_type": "code",
   "execution_count": 5,
   "metadata": {},
   "outputs": [
    {
     "name": "stdout",
     "output_type": "stream",
     "text": [
      "<class 'pandas.core.frame.DataFrame'>\n",
      "RangeIndex: 52358724 entries, 0 to 52358723\n",
      "Data columns (total 3 columns):\n",
      " #   Column          Dtype \n",
      "---  ------          ----- \n",
      " 0   PK_PATIENT      int64 \n",
      " 1   Diagnosis_Code  object\n",
      " 2   Diagnosis_Date  object\n",
      "dtypes: int64(1), object(2)\n",
      "memory usage: 1.2+ GB\n"
     ]
    }
   ],
   "source": [
    "diagnosis_df.info()"
   ]
  },
  {
   "cell_type": "code",
   "execution_count": 3,
   "metadata": {},
   "outputs": [],
   "source": [
    "diagnosis_df = diagnosis_df.rename(columns={\"PK_PACIENTE\" : \"PK_PATIENT\", \"CODIGO_DIAG\" : \"Diagnosis_Code\",\"FECPRC\" : \"Diagnosis_Date\"})"
   ]
  },
  {
   "cell_type": "code",
   "execution_count": 6,
   "metadata": {},
   "outputs": [],
   "source": [
    "diagnosis_df['PK_PATIENT'] = diagnosis_df['PK_PATIENT'].astype('string')\n",
    "diagnosis_df['Diagnosis_Code'] = diagnosis_df['Diagnosis_Code'].astype('string')\n",
    "diagnosis_df['Diagnosis_Date'] = diagnosis_df['Diagnosis_Date'].astype('string')\n",
    "\n",
    "diagnosis_df['PK_PATIENT'] = diagnosis_df['PK_PATIENT'].str.strip()\n",
    "diagnosis_df['Diagnosis_Code'] = diagnosis_df['Diagnosis_Code'].str.strip()\n",
    "diagnosis_df['Diagnosis_Date'] = diagnosis_df['Diagnosis_Date'].str.lstrip()\n",
    "diagnosis_df['Diagnosis_Date'] = diagnosis_df['Diagnosis_Date'].str.rstrip()"
   ]
  },
  {
   "cell_type": "code",
   "execution_count": 7,
   "metadata": {},
   "outputs": [
    {
     "data": {
      "text/html": [
       "<div>\n",
       "<style scoped>\n",
       "    .dataframe tbody tr th:only-of-type {\n",
       "        vertical-align: middle;\n",
       "    }\n",
       "\n",
       "    .dataframe tbody tr th {\n",
       "        vertical-align: top;\n",
       "    }\n",
       "\n",
       "    .dataframe thead th {\n",
       "        text-align: right;\n",
       "    }\n",
       "</style>\n",
       "<table border=\"1\" class=\"dataframe\">\n",
       "  <thead>\n",
       "    <tr style=\"text-align: right;\">\n",
       "      <th></th>\n",
       "      <th>PK_PATIENT</th>\n",
       "      <th>Diagnosis_Code</th>\n",
       "      <th>Diagnosis_Date</th>\n",
       "    </tr>\n",
       "  </thead>\n",
       "  <tbody>\n",
       "    <tr>\n",
       "      <th>0</th>\n",
       "      <td>0</td>\n",
       "      <td>S020</td>\n",
       "      <td>2005/07/03 08:14:07 p.m.</td>\n",
       "    </tr>\n",
       "    <tr>\n",
       "      <th>1</th>\n",
       "      <td>0</td>\n",
       "      <td>N951</td>\n",
       "      <td>2005/07/03 08:14:07 p.m.</td>\n",
       "    </tr>\n",
       "    <tr>\n",
       "      <th>2</th>\n",
       "      <td>0</td>\n",
       "      <td></td>\n",
       "      <td>2020/03/09 06:01:32 a.m.</td>\n",
       "    </tr>\n",
       "    <tr>\n",
       "      <th>3</th>\n",
       "      <td>0</td>\n",
       "      <td>I10X</td>\n",
       "      <td>2005/07/03 08:14:07 p.m.</td>\n",
       "    </tr>\n",
       "    <tr>\n",
       "      <th>4</th>\n",
       "      <td>0</td>\n",
       "      <td>F302</td>\n",
       "      <td>2005/07/03 08:14:07 p.m.</td>\n",
       "    </tr>\n",
       "    <tr>\n",
       "      <th>...</th>\n",
       "      <td>...</td>\n",
       "      <td>...</td>\n",
       "      <td>...</td>\n",
       "    </tr>\n",
       "    <tr>\n",
       "      <th>52358719</th>\n",
       "      <td>1199971</td>\n",
       "      <td>Z532</td>\n",
       "      <td>2022/02/16 08:38:04 a.m.</td>\n",
       "    </tr>\n",
       "    <tr>\n",
       "      <th>52358720</th>\n",
       "      <td>1199971</td>\n",
       "      <td>Z770</td>\n",
       "      <td>2022/01/11 11:26:14 a.m.</td>\n",
       "    </tr>\n",
       "    <tr>\n",
       "      <th>52358721</th>\n",
       "      <td>1199971</td>\n",
       "      <td>Z770</td>\n",
       "      <td>2022/01/07 10:55:14 a.m.</td>\n",
       "    </tr>\n",
       "    <tr>\n",
       "      <th>52358722</th>\n",
       "      <td>1199971</td>\n",
       "      <td>Z532</td>\n",
       "      <td>2022/01/19 07:12:11 a.m.</td>\n",
       "    </tr>\n",
       "    <tr>\n",
       "      <th>52358723</th>\n",
       "      <td>1199971</td>\n",
       "      <td>Z359</td>\n",
       "      <td>2022/01/19 07:12:23 a.m.</td>\n",
       "    </tr>\n",
       "  </tbody>\n",
       "</table>\n",
       "<p>52358724 rows × 3 columns</p>\n",
       "</div>"
      ],
      "text/plain": [
       "         PK_PATIENT Diagnosis_Code            Diagnosis_Date\n",
       "0                 0           S020  2005/07/03 08:14:07 p.m.\n",
       "1                 0           N951  2005/07/03 08:14:07 p.m.\n",
       "2                 0                 2020/03/09 06:01:32 a.m.\n",
       "3                 0           I10X  2005/07/03 08:14:07 p.m.\n",
       "4                 0           F302  2005/07/03 08:14:07 p.m.\n",
       "...             ...            ...                       ...\n",
       "52358719    1199971           Z532  2022/02/16 08:38:04 a.m.\n",
       "52358720    1199971           Z770  2022/01/11 11:26:14 a.m.\n",
       "52358721    1199971           Z770  2022/01/07 10:55:14 a.m.\n",
       "52358722    1199971           Z532  2022/01/19 07:12:11 a.m.\n",
       "52358723    1199971           Z359  2022/01/19 07:12:23 a.m.\n",
       "\n",
       "[52358724 rows x 3 columns]"
      ]
     },
     "execution_count": 7,
     "metadata": {},
     "output_type": "execute_result"
    }
   ],
   "source": [
    "diagnosis_df.dropna()"
   ]
  },
  {
   "cell_type": "code",
   "execution_count": 8,
   "metadata": {},
   "outputs": [
    {
     "name": "stdout",
     "output_type": "stream",
     "text": [
      "<class 'pandas.core.frame.DataFrame'>\n",
      "RangeIndex: 52358724 entries, 0 to 52358723\n",
      "Data columns (total 3 columns):\n",
      " #   Column          Dtype \n",
      "---  ------          ----- \n",
      " 0   PK_PATIENT      string\n",
      " 1   Diagnosis_Code  string\n",
      " 2   Diagnosis_Date  string\n",
      "dtypes: string(3)\n",
      "memory usage: 1.2 GB\n"
     ]
    }
   ],
   "source": [
    "diagnosis_df.info()"
   ]
  },
  {
   "cell_type": "code",
   "execution_count": 9,
   "metadata": {},
   "outputs": [],
   "source": [
    "diagnosis_df.to_csv(r'./cleaned_data/diagnosis.csv', sep=',', encoding='utf-8', header='true')"
   ]
  },
  {
   "cell_type": "code",
   "execution_count": null,
   "metadata": {},
   "outputs": [],
   "source": []
  }
 ],
 "metadata": {
  "kernelspec": {
   "display_name": "Python 3.8.8 ('base')",
   "language": "python",
   "name": "python3"
  },
  "language_info": {
   "codemirror_mode": {
    "name": "ipython",
    "version": 3
   },
   "file_extension": ".py",
   "mimetype": "text/x-python",
   "name": "python",
   "nbconvert_exporter": "python",
   "pygments_lexer": "ipython3",
   "version": "3.8.8"
  },
  "orig_nbformat": 4,
  "vscode": {
   "interpreter": {
    "hash": "413a07e1ad969ecf435029fab0e4751808051d0f566828a98f3858fc730aecfc"
   }
  }
 },
 "nbformat": 4,
 "nbformat_minor": 2
}
