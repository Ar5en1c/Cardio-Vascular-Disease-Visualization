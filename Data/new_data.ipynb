{
 "cells": [
  {
   "cell_type": "code",
   "execution_count": 1,
   "metadata": {},
   "outputs": [],
   "source": [
    "import pandas as pd\n",
    "import numpy as np\n",
    "import matplotlib.pyplot as plt\n",
    "import seaborn as sns\n",
    "import re\n",
    "import operator as op"
   ]
  },
  {
   "cell_type": "code",
   "execution_count": 2,
   "metadata": {},
   "outputs": [],
   "source": [
    "albumin_df = pd.read_csv('./microalbuminuria.txt', sep='|')\n",
    "height_df = pd.read_csv('./height.txt', sep='|')\n",
    "weight_df = pd.read_csv('./weight.txt', sep='|')"
   ]
  },
  {
   "cell_type": "code",
   "execution_count": 9,
   "metadata": {},
   "outputs": [
    {
     "data": {
      "text/html": [
       "<div>\n",
       "<style scoped>\n",
       "    .dataframe tbody tr th:only-of-type {\n",
       "        vertical-align: middle;\n",
       "    }\n",
       "\n",
       "    .dataframe tbody tr th {\n",
       "        vertical-align: top;\n",
       "    }\n",
       "\n",
       "    .dataframe thead th {\n",
       "        text-align: right;\n",
       "    }\n",
       "</style>\n",
       "<table border=\"1\" class=\"dataframe\">\n",
       "  <thead>\n",
       "    <tr style=\"text-align: right;\">\n",
       "      <th></th>\n",
       "      <th>PK_PATIENT</th>\n",
       "      <th>weight_date</th>\n",
       "      <th>weight</th>\n",
       "    </tr>\n",
       "  </thead>\n",
       "  <tbody>\n",
       "    <tr>\n",
       "      <th>0</th>\n",
       "      <td>0</td>\n",
       "      <td>1900/01/01</td>\n",
       "      <td>80.0</td>\n",
       "    </tr>\n",
       "    <tr>\n",
       "      <th>1</th>\n",
       "      <td>1</td>\n",
       "      <td>2022/08/19 08:27:10 a.m.</td>\n",
       "      <td>35.0</td>\n",
       "    </tr>\n",
       "    <tr>\n",
       "      <th>2</th>\n",
       "      <td>1</td>\n",
       "      <td>2022/08/19 08:49:45 a.m.</td>\n",
       "      <td>38.0</td>\n",
       "    </tr>\n",
       "    <tr>\n",
       "      <th>3</th>\n",
       "      <td>1</td>\n",
       "      <td>2022/08/19 08:00:30 a.m.</td>\n",
       "      <td>40.0</td>\n",
       "    </tr>\n",
       "    <tr>\n",
       "      <th>4</th>\n",
       "      <td>1</td>\n",
       "      <td>2010/08/14 11:37:38 a.m.</td>\n",
       "      <td>64.0</td>\n",
       "    </tr>\n",
       "  </tbody>\n",
       "</table>\n",
       "</div>"
      ],
      "text/plain": [
       "   PK_PATIENT               weight_date  weight\n",
       "0           0                1900/01/01    80.0\n",
       "1           1  2022/08/19 08:27:10 a.m.    35.0\n",
       "2           1  2022/08/19 08:49:45 a.m.    38.0\n",
       "3           1  2022/08/19 08:00:30 a.m.    40.0\n",
       "4           1  2010/08/14 11:37:38 a.m.    64.0"
      ]
     },
     "execution_count": 9,
     "metadata": {},
     "output_type": "execute_result"
    }
   ],
   "source": [
    "weight_df.head(5)"
   ]
  },
  {
   "cell_type": "code",
   "execution_count": 10,
   "metadata": {},
   "outputs": [
    {
     "name": "stdout",
     "output_type": "stream",
     "text": [
      "<class 'pandas.core.frame.DataFrame'>\n",
      "RangeIndex: 23941742 entries, 0 to 23941741\n",
      "Data columns (total 3 columns):\n",
      " #   Column       Dtype  \n",
      "---  ------       -----  \n",
      " 0   PK_PATIENT   int64  \n",
      " 1   weight_date  object \n",
      " 2   weight       float64\n",
      "dtypes: float64(1), int64(1), object(1)\n",
      "memory usage: 548.0+ MB\n"
     ]
    }
   ],
   "source": [
    "weight_df.info()"
   ]
  },
  {
   "cell_type": "code",
   "execution_count": 11,
   "metadata": {},
   "outputs": [],
   "source": [
    "weight_df['PK_PATIENT'] = weight_df['PK_PATIENT'].astype('string')\n",
    "weight_df['weight'] = weight_df['weight'].astype('string')\n",
    "weight_df['weight_date'] = weight_df['weight_date'].astype('string')\n",
    "\n",
    "weight_df['PK_PATIENT'] = weight_df['PK_PATIENT'].str.strip()\n",
    "weight_df['weight'] = weight_df['weight'].str.strip()\n",
    "weight_df['weight_date'] = weight_df['weight_date'].str.lstrip()\n",
    "weight_df['weight_date'] = weight_df['weight_date'].str.rstrip()"
   ]
  },
  {
   "cell_type": "code",
   "execution_count": 8,
   "metadata": {},
   "outputs": [],
   "source": [
    "height_df['PK_PATIENT'] = height_df['PK_PATIENT'].astype('string')\n",
    "height_df['height'] = height_df['height'].astype('string')\n",
    "height_df['height_date'] = height_df['height_date'].astype('string')\n",
    "\n",
    "height_df['PK_PATIENT'] = height_df['PK_PATIENT'].str.strip()\n",
    "height_df['height'] = height_df['height'].str.strip()\n",
    "height_df['height_date'] = height_df['height_date'].str.lstrip()\n",
    "height_df['height_date'] = height_df['height_date'].str.rstrip()"
   ]
  },
  {
   "cell_type": "code",
   "execution_count": 5,
   "metadata": {},
   "outputs": [],
   "source": [
    "albumin_df['PK_PATIENT'] = albumin_df['PK_PATIENT'].astype('string')\n",
    "albumin_df['microalbuminuria'] = albumin_df['microalbuminuria'].astype('string')\n",
    "albumin_df['microalbuminuria_date'] = albumin_df['microalbuminuria_date'].astype('string')\n",
    "\n",
    "albumin_df['PK_PATIENT'] = albumin_df['PK_PATIENT'].str.strip()\n",
    "albumin_df['microalbuminuria'] = albumin_df['microalbuminuria'].str.strip()\n",
    "albumin_df['microalbuminuria_date'] = albumin_df['microalbuminuria_date'].str.lstrip()\n",
    "albumin_df['microalbuminuria_date'] = albumin_df['microalbuminuria_date'].str.rstrip()"
   ]
  },
  {
   "cell_type": "code",
   "execution_count": 13,
   "metadata": {},
   "outputs": [],
   "source": [
    "albumin_df.to_csv(r'./cleaned_data/albumin.csv', sep=',', encoding='utf-8', header='true')\n",
    "height_df.to_csv(r'./cleaned_data/height.csv', sep=',', encoding='utf-8', header='true')\n",
    "weight_df.to_csv(r'./cleaned_data/weight.csv', sep=',', encoding='utf-8', header='true')\n"
   ]
  },
  {
   "cell_type": "code",
   "execution_count": 3,
   "metadata": {},
   "outputs": [],
   "source": [
    "hdl_df = pd.read_csv('./HDL_high-density_lipoprotein.txt', sep='|' ,encoding='latin1',on_bad_lines='skip')\n",
    "ldl_df = pd.read_csv('./LDL_low-density_lipoprotein.txt', sep='|', on_bad_lines='skip')"
   ]
  },
  {
   "cell_type": "code",
   "execution_count": 7,
   "metadata": {},
   "outputs": [
    {
     "data": {
      "text/html": [
       "<div>\n",
       "<style scoped>\n",
       "    .dataframe tbody tr th:only-of-type {\n",
       "        vertical-align: middle;\n",
       "    }\n",
       "\n",
       "    .dataframe tbody tr th {\n",
       "        vertical-align: top;\n",
       "    }\n",
       "\n",
       "    .dataframe thead th {\n",
       "        text-align: right;\n",
       "    }\n",
       "</style>\n",
       "<table border=\"1\" class=\"dataframe\">\n",
       "  <thead>\n",
       "    <tr style=\"text-align: right;\">\n",
       "      <th></th>\n",
       "      <th>PK_PATIENT</th>\n",
       "      <th>LDL_low-density_lipoprotein</th>\n",
       "      <th>LDL_low-density_lipoprotein_date</th>\n",
       "    </tr>\n",
       "  </thead>\n",
       "  <tbody>\n",
       "    <tr>\n",
       "      <th>0</th>\n",
       "      <td>0</td>\n",
       "      <td>131</td>\n",
       "      <td>2021/05/13 01:52:39 p.m.</td>\n",
       "    </tr>\n",
       "    <tr>\n",
       "      <th>1</th>\n",
       "      <td>0</td>\n",
       "      <td>128</td>\n",
       "      <td>2021/05/13 01:52:40 p.m.</td>\n",
       "    </tr>\n",
       "    <tr>\n",
       "      <th>2</th>\n",
       "      <td>0</td>\n",
       "      <td>98</td>\n",
       "      <td>2021/05/13 01:52:59 p.m.</td>\n",
       "    </tr>\n",
       "    <tr>\n",
       "      <th>3</th>\n",
       "      <td>0</td>\n",
       "      <td>118</td>\n",
       "      <td>2021/05/13 01:52:39 p.m.</td>\n",
       "    </tr>\n",
       "    <tr>\n",
       "      <th>4</th>\n",
       "      <td>0</td>\n",
       "      <td>112</td>\n",
       "      <td>2021/05/13 01:52:44 p.m.</td>\n",
       "    </tr>\n",
       "  </tbody>\n",
       "</table>\n",
       "</div>"
      ],
      "text/plain": [
       "   PK_PATIENT LDL_low-density_lipoprotein LDL_low-density_lipoprotein_date\n",
       "0           0                         131         2021/05/13 01:52:39 p.m.\n",
       "1           0                         128         2021/05/13 01:52:40 p.m.\n",
       "2           0                          98         2021/05/13 01:52:59 p.m.\n",
       "3           0                         118         2021/05/13 01:52:39 p.m.\n",
       "4           0                         112         2021/05/13 01:52:44 p.m."
      ]
     },
     "execution_count": 7,
     "metadata": {},
     "output_type": "execute_result"
    }
   ],
   "source": [
    "ldl_df.head(5)"
   ]
  },
  {
   "cell_type": "code",
   "execution_count": 8,
   "metadata": {},
   "outputs": [
    {
     "name": "stdout",
     "output_type": "stream",
     "text": [
      "<class 'pandas.core.frame.DataFrame'>\n",
      "RangeIndex: 387331 entries, 0 to 387330\n",
      "Data columns (total 3 columns):\n",
      " #   Column                            Non-Null Count   Dtype \n",
      "---  ------                            --------------   ----- \n",
      " 0   PK_PATIENT                        387331 non-null  int64 \n",
      " 1   LDL_low-density_lipoprotein       386842 non-null  object\n",
      " 2   LDL_low-density_lipoprotein_date  387331 non-null  object\n",
      "dtypes: int64(1), object(2)\n",
      "memory usage: 8.9+ MB\n"
     ]
    }
   ],
   "source": [
    "ldl_df.info()"
   ]
  },
  {
   "cell_type": "code",
   "execution_count": 6,
   "metadata": {},
   "outputs": [],
   "source": [
    "hdl_df['PK_PATIENT'] = hdl_df['PK_PATIENT'].astype('string')\n",
    "hdl_df['HDL_high-density_lipoprotein'] = hdl_df['HDL_high-density_lipoprotein'].astype('string')\n",
    "hdl_df['HDL_high-density_lipoprotein_date'] = hdl_df['HDL_high-density_lipoprotein_date'].astype('string')\n",
    "\n",
    "hdl_df['PK_PATIENT'] = hdl_df['PK_PATIENT'].str.strip()\n",
    "hdl_df['HDL_high-density_lipoprotein'] = hdl_df['HDL_high-density_lipoprotein'].str.strip()\n",
    "hdl_df['HDL_high-density_lipoprotein_date'] = hdl_df['HDL_high-density_lipoprotein_date'].str.lstrip()\n",
    "hdl_df['HDL_high-density_lipoprotein_date'] = hdl_df['HDL_high-density_lipoprotein_date'].str.rstrip()"
   ]
  },
  {
   "cell_type": "code",
   "execution_count": 9,
   "metadata": {},
   "outputs": [],
   "source": [
    "ldl_df['PK_PATIENT'] = ldl_df['PK_PATIENT'].astype('string')\n",
    "ldl_df['LDL_low-density_lipoprotein'] = ldl_df['LDL_low-density_lipoprotein'].astype('string')\n",
    "ldl_df['LDL_low-density_lipoprotein_date'] = ldl_df['LDL_low-density_lipoprotein_date'].astype('string')\n",
    "\n",
    "ldl_df['PK_PATIENT'] = ldl_df['PK_PATIENT'].str.strip()\n",
    "ldl_df['LDL_low-density_lipoprotein'] = ldl_df['LDL_low-density_lipoprotein'].str.strip()\n",
    "ldl_df['LDL_low-density_lipoprotein_date'] = ldl_df['LDL_low-density_lipoprotein_date'].str.lstrip()\n",
    "ldl_df['LDL_low-density_lipoprotein_date'] = ldl_df['LDL_low-density_lipoprotein_date'].str.rstrip()"
   ]
  },
  {
   "cell_type": "code",
   "execution_count": 10,
   "metadata": {},
   "outputs": [],
   "source": [
    "ldl_df.to_csv(r'./cleaned_data/ldl.csv', sep=',', encoding='utf-8', header='true')\n",
    "hdl_df.to_csv(r'./cleaned_data/hdl.csv', sep=',', encoding='utf-8', header='true')"
   ]
  },
  {
   "cell_type": "code",
   "execution_count": 2,
   "metadata": {},
   "outputs": [],
   "source": [
    "creatnine_df = pd.read_csv('./creatinine.txt', sep='|',encoding='latin1')\n",
    "triglycerides_df = pd.read_csv('./triglycerides.txt', sep='|')"
   ]
  },
  {
   "cell_type": "code",
   "execution_count": 5,
   "metadata": {},
   "outputs": [
    {
     "name": "stdout",
     "output_type": "stream",
     "text": [
      "<class 'pandas.core.frame.DataFrame'>\n",
      "RangeIndex: 593297 entries, 0 to 593296\n",
      "Data columns (total 3 columns):\n",
      " #   Column              Non-Null Count   Dtype \n",
      "---  ------              --------------   ----- \n",
      " 0   PK_PATIENT          593297 non-null  int64 \n",
      " 1   triglycerides       593055 non-null  object\n",
      " 2   triglycerides_date  593297 non-null  object\n",
      "dtypes: int64(1), object(2)\n",
      "memory usage: 13.6+ MB\n"
     ]
    }
   ],
   "source": [
    "triglycerides_df.info()"
   ]
  },
  {
   "cell_type": "code",
   "execution_count": 4,
   "metadata": {},
   "outputs": [],
   "source": [
    "creatnine_df['PK_PATIENT'] = creatnine_df['PK_PATIENT'].astype('string')\n",
    "creatnine_df['creatinine'] = creatnine_df['creatinine'].astype('string')\n",
    "creatnine_df['creatinine_date'] = creatnine_df['creatinine_date'].astype('string')\n",
    "\n",
    "creatnine_df['PK_PATIENT'] = creatnine_df['PK_PATIENT'].str.strip()\n",
    "creatnine_df['creatinine'] = creatnine_df['creatinine'].str.strip()\n",
    "creatnine_df['creatinine_date'] = creatnine_df['creatinine_date'].str.lstrip()\n",
    "creatnine_df['creatinine_date'] = creatnine_df['creatinine_date'].str.rstrip()"
   ]
  },
  {
   "cell_type": "code",
   "execution_count": 6,
   "metadata": {},
   "outputs": [],
   "source": [
    "triglycerides_df['PK_PATIENT'] = triglycerides_df['PK_PATIENT'].astype('string')\n",
    "triglycerides_df['triglycerides'] = triglycerides_df['triglycerides'].astype('string')\n",
    "triglycerides_df['triglycerides_date'] = triglycerides_df['triglycerides_date'].astype('string')\n",
    "\n",
    "triglycerides_df['PK_PATIENT'] = triglycerides_df['PK_PATIENT'].str.strip()\n",
    "triglycerides_df['triglycerides'] = triglycerides_df['triglycerides'].str.strip()\n",
    "triglycerides_df['triglycerides_date'] = triglycerides_df['triglycerides_date'].str.lstrip()\n",
    "triglycerides_df['triglycerides_date'] = triglycerides_df['triglycerides_date'].str.rstrip()"
   ]
  },
  {
   "cell_type": "code",
   "execution_count": 7,
   "metadata": {},
   "outputs": [],
   "source": [
    "creatnine_df.to_csv(r'./cleaned_data/creatnine.csv', sep=',', encoding='utf-8', header='true')\n",
    "triglycerides_df.to_csv(r'./cleaned_data/triglycerides.csv', sep=',', encoding='utf-8', header='true')"
   ]
  }
 ],
 "metadata": {
  "kernelspec": {
   "display_name": "Python 3.8.8 ('base')",
   "language": "python",
   "name": "python3"
  },
  "language_info": {
   "codemirror_mode": {
    "name": "ipython",
    "version": 3
   },
   "file_extension": ".py",
   "mimetype": "text/x-python",
   "name": "python",
   "nbconvert_exporter": "python",
   "pygments_lexer": "ipython3",
   "version": "3.8.8"
  },
  "orig_nbformat": 4,
  "vscode": {
   "interpreter": {
    "hash": "413a07e1ad969ecf435029fab0e4751808051d0f566828a98f3858fc730aecfc"
   }
  }
 },
 "nbformat": 4,
 "nbformat_minor": 2
}
